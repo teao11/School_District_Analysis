{
 "cells": [
  {
   "cell_type": "code",
   "execution_count": 1,
   "id": "075e1177",
   "metadata": {},
   "outputs": [],
   "source": [
    "# Add dependencies\n",
    "import pandas as pd"
   ]
  },
  {
   "cell_type": "code",
   "execution_count": 6,
   "id": "db6d9079",
   "metadata": {},
   "outputs": [],
   "source": [
    "# Files to load in to Analysis\n",
    "schools_to_load_data = \"Resources/schools_complete.csv\"\n",
    "students_to_load_data = \"Resources/students_complete.csv\""
   ]
  },
  {
   "cell_type": "code",
   "execution_count": 7,
   "id": "ca03e7c1",
   "metadata": {},
   "outputs": [],
   "source": [
    "# Read the files into a Dataframe\n",
    "schools_df = pd.read_csv(schools_to_load_data)\n",
    "students_df = pd.read_csv(students_to_load_data)"
   ]
  },
  {
   "cell_type": "code",
   "execution_count": null,
   "id": "d6714019",
   "metadata": {},
   "outputs": [],
   "source": []
  }
 ],
 "metadata": {
  "kernelspec": {
   "display_name": "PythonData",
   "language": "python",
   "name": "pythondata"
  },
  "language_info": {
   "codemirror_mode": {
    "name": "ipython",
    "version": 3
   },
   "file_extension": ".py",
   "mimetype": "text/x-python",
   "name": "python",
   "nbconvert_exporter": "python",
   "pygments_lexer": "ipython3",
   "version": "3.8.8"
  }
 },
 "nbformat": 4,
 "nbformat_minor": 5
}
