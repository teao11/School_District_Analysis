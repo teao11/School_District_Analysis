{
 "cells": [
  {
   "cell_type": "code",
   "execution_count": 197,
   "id": "db0db932",
   "metadata": {},
   "outputs": [],
   "source": [
    "# Add dependencies\n",
    "import pandas as pd"
   ]
  },
  {
   "cell_type": "code",
   "execution_count": 198,
   "id": "d404164e",
   "metadata": {},
   "outputs": [],
   "source": [
    "# Files to load in to Analysis\n",
    "schools_to_load_data = \"Resources/schools_complete.csv\"\n",
    "students_to_load_data = \"Resources/students_complete.csv\""
   ]
  },
  {
   "cell_type": "code",
   "execution_count": 199,
   "id": "c6b56d53",
   "metadata": {},
   "outputs": [],
   "source": [
    "# Read the files into a Dataframe\n",
    "schools_df = pd.read_csv(schools_to_load_data)\n",
    "students_df = pd.read_csv(students_to_load_data)"
   ]
  },
  {
   "cell_type": "code",
   "execution_count": 200,
   "id": "48cd3588",
   "metadata": {},
   "outputs": [
    {
     "data": {
      "text/plain": [
       "School ID      15\n",
       "school_name    15\n",
       "type           15\n",
       "size           15\n",
       "budget         15\n",
       "dtype: int64"
      ]
     },
     "execution_count": 200,
     "metadata": {},
     "output_type": "execute_result"
    }
   ],
   "source": [
    "# Count the number of values in each column to determine missing rows\n",
    "schools_df.count()"
   ]
  },
  {
   "cell_type": "code",
   "execution_count": 201,
   "id": "ecee3398",
   "metadata": {},
   "outputs": [
    {
     "data": {
      "text/plain": [
       "School ID      0\n",
       "school_name    0\n",
       "type           0\n",
       "size           0\n",
       "budget         0\n",
       "dtype: int64"
      ]
     },
     "execution_count": 201,
     "metadata": {},
     "output_type": "execute_result"
    }
   ],
   "source": [
    "# Use ISNULL to see if any values in each column are NULL\n",
    "schools_df.isnull().sum()"
   ]
  },
  {
   "cell_type": "code",
   "execution_count": 202,
   "id": "f806ebc7",
   "metadata": {},
   "outputs": [
    {
     "data": {
      "text/plain": [
       "School ID      15\n",
       "school_name    15\n",
       "type           15\n",
       "size           15\n",
       "budget         15\n",
       "dtype: int64"
      ]
     },
     "execution_count": 202,
     "metadata": {},
     "output_type": "execute_result"
    }
   ],
   "source": [
    "# Use NOTNULL to see if any values in each column are NULL (opposite of the above cell)\n",
    "schools_df.notnull().sum()"
   ]
  },
  {
   "cell_type": "code",
   "execution_count": 203,
   "id": "145a60f7",
   "metadata": {},
   "outputs": [
    {
     "data": {
      "text/plain": [
       "Student ID       39170\n",
       "student_name     39170\n",
       "gender           39170\n",
       "grade            39170\n",
       "school_name      39170\n",
       "reading_score    39170\n",
       "math_score       39170\n",
       "dtype: int64"
      ]
     },
     "execution_count": 203,
     "metadata": {},
     "output_type": "execute_result"
    }
   ],
   "source": [
    "# Count the number of values in each column to determine missing rows\n",
    "students_df.count()"
   ]
  },
  {
   "cell_type": "code",
   "execution_count": 204,
   "id": "21d44ae5",
   "metadata": {},
   "outputs": [
    {
     "data": {
      "text/plain": [
       "Student ID       0\n",
       "student_name     0\n",
       "gender           0\n",
       "grade            0\n",
       "school_name      0\n",
       "reading_score    0\n",
       "math_score       0\n",
       "dtype: int64"
      ]
     },
     "execution_count": 204,
     "metadata": {},
     "output_type": "execute_result"
    }
   ],
   "source": [
    "# Use ISNULL to see if any values in each column are NULL\n",
    "students_df.isnull().sum()"
   ]
  },
  {
   "cell_type": "code",
   "execution_count": 205,
   "id": "7ff77899",
   "metadata": {},
   "outputs": [
    {
     "data": {
      "text/plain": [
       "Student ID       39170\n",
       "student_name     39170\n",
       "gender           39170\n",
       "grade            39170\n",
       "school_name      39170\n",
       "reading_score    39170\n",
       "math_score       39170\n",
       "dtype: int64"
      ]
     },
     "execution_count": 205,
     "metadata": {},
     "output_type": "execute_result"
    }
   ],
   "source": [
    "# Use NOTNULL to see if any values in each column are NULL (opposite of the above cell)\n",
    "students_df.notnull().sum()"
   ]
  },
  {
   "cell_type": "code",
   "execution_count": 206,
   "id": "1fc7c7b2",
   "metadata": {},
   "outputs": [
    {
     "data": {
      "text/plain": [
       "School ID       int64\n",
       "school_name    object\n",
       "type           object\n",
       "size            int64\n",
       "budget          int64\n",
       "dtype: object"
      ]
     },
     "execution_count": 206,
     "metadata": {},
     "output_type": "execute_result"
    }
   ],
   "source": [
    "# Determine data types for the school DataFrame\n",
    "schools_df.dtypes"
   ]
  },
  {
   "cell_type": "code",
   "execution_count": 207,
   "id": "0ae219d5",
   "metadata": {},
   "outputs": [
    {
     "data": {
      "text/plain": [
       "dtype('O')"
      ]
     },
     "execution_count": 207,
     "metadata": {},
     "output_type": "execute_result"
    }
   ],
   "source": [
    "schools_df[\"school_name\"].dtype"
   ]
  },
  {
   "cell_type": "code",
   "execution_count": 208,
   "id": "f773351d",
   "metadata": {},
   "outputs": [],
   "source": [
    "# Add each prefix and suffix to remove to a list.\n",
    "prefixes_suffixes = [\"Dr. \", \"Mr. \",\"Ms. \", \"Mrs. \", \"Miss \", \" MD\", \" DDS\", \" DVM\", \" PhD\"]"
   ]
  },
  {
   "cell_type": "code",
   "execution_count": 209,
   "id": "eeff445a",
   "metadata": {},
   "outputs": [
    {
     "name": "stderr",
     "output_type": "stream",
     "text": [
      "<ipython-input-209-95febb0a8019>:3: FutureWarning: The default value of regex will change from True to False in a future version.\n",
      "  students_df[\"student_name\"] = students_df[\"student_name\"].str.replace(word,\"\")\n"
     ]
    }
   ],
   "source": [
    "# Iterate through the words in the \"prefixes_suffixes\" list and replace them with an empty space, \"\".\n",
    "for word in prefixes_suffixes:\n",
    "    students_df[\"student_name\"] = students_df[\"student_name\"].str.replace(word,\"\")"
   ]
  },
  {
   "cell_type": "code",
   "execution_count": 210,
   "id": "b465487f",
   "metadata": {},
   "outputs": [
    {
     "data": {
      "text/html": [
       "<div>\n",
       "<style scoped>\n",
       "    .dataframe tbody tr th:only-of-type {\n",
       "        vertical-align: middle;\n",
       "    }\n",
       "\n",
       "    .dataframe tbody tr th {\n",
       "        vertical-align: top;\n",
       "    }\n",
       "\n",
       "    .dataframe thead th {\n",
       "        text-align: right;\n",
       "    }\n",
       "</style>\n",
       "<table border=\"1\" class=\"dataframe\">\n",
       "  <thead>\n",
       "    <tr style=\"text-align: right;\">\n",
       "      <th></th>\n",
       "      <th>Student ID</th>\n",
       "      <th>student_name</th>\n",
       "      <th>gender</th>\n",
       "      <th>grade</th>\n",
       "      <th>school_name</th>\n",
       "      <th>reading_score</th>\n",
       "      <th>math_score</th>\n",
       "      <th>School ID</th>\n",
       "      <th>type</th>\n",
       "      <th>size</th>\n",
       "      <th>budget</th>\n",
       "    </tr>\n",
       "  </thead>\n",
       "  <tbody>\n",
       "    <tr>\n",
       "      <th>0</th>\n",
       "      <td>0</td>\n",
       "      <td>Paul Bradley</td>\n",
       "      <td>M</td>\n",
       "      <td>9th</td>\n",
       "      <td>Huang High School</td>\n",
       "      <td>66</td>\n",
       "      <td>79</td>\n",
       "      <td>0</td>\n",
       "      <td>District</td>\n",
       "      <td>2917</td>\n",
       "      <td>1910635</td>\n",
       "    </tr>\n",
       "    <tr>\n",
       "      <th>1</th>\n",
       "      <td>1</td>\n",
       "      <td>Victor Smith</td>\n",
       "      <td>M</td>\n",
       "      <td>12th</td>\n",
       "      <td>Huang High School</td>\n",
       "      <td>94</td>\n",
       "      <td>61</td>\n",
       "      <td>0</td>\n",
       "      <td>District</td>\n",
       "      <td>2917</td>\n",
       "      <td>1910635</td>\n",
       "    </tr>\n",
       "    <tr>\n",
       "      <th>2</th>\n",
       "      <td>2</td>\n",
       "      <td>Kevin Rodriguez</td>\n",
       "      <td>M</td>\n",
       "      <td>12th</td>\n",
       "      <td>Huang High School</td>\n",
       "      <td>90</td>\n",
       "      <td>60</td>\n",
       "      <td>0</td>\n",
       "      <td>District</td>\n",
       "      <td>2917</td>\n",
       "      <td>1910635</td>\n",
       "    </tr>\n",
       "    <tr>\n",
       "      <th>3</th>\n",
       "      <td>3</td>\n",
       "      <td>Richard Scott</td>\n",
       "      <td>M</td>\n",
       "      <td>12th</td>\n",
       "      <td>Huang High School</td>\n",
       "      <td>67</td>\n",
       "      <td>58</td>\n",
       "      <td>0</td>\n",
       "      <td>District</td>\n",
       "      <td>2917</td>\n",
       "      <td>1910635</td>\n",
       "    </tr>\n",
       "    <tr>\n",
       "      <th>4</th>\n",
       "      <td>4</td>\n",
       "      <td>Bonnie Ray</td>\n",
       "      <td>F</td>\n",
       "      <td>9th</td>\n",
       "      <td>Huang High School</td>\n",
       "      <td>97</td>\n",
       "      <td>84</td>\n",
       "      <td>0</td>\n",
       "      <td>District</td>\n",
       "      <td>2917</td>\n",
       "      <td>1910635</td>\n",
       "    </tr>\n",
       "  </tbody>\n",
       "</table>\n",
       "</div>"
      ],
      "text/plain": [
       "   Student ID     student_name gender grade        school_name  reading_score  \\\n",
       "0           0     Paul Bradley      M   9th  Huang High School             66   \n",
       "1           1     Victor Smith      M  12th  Huang High School             94   \n",
       "2           2  Kevin Rodriguez      M  12th  Huang High School             90   \n",
       "3           3    Richard Scott      M  12th  Huang High School             67   \n",
       "4           4       Bonnie Ray      F   9th  Huang High School             97   \n",
       "\n",
       "   math_score  School ID      type  size   budget  \n",
       "0          79          0  District  2917  1910635  \n",
       "1          61          0  District  2917  1910635  \n",
       "2          60          0  District  2917  1910635  \n",
       "3          58          0  District  2917  1910635  \n",
       "4          84          0  District  2917  1910635  "
      ]
     },
     "execution_count": 210,
     "metadata": {},
     "output_type": "execute_result"
    }
   ],
   "source": [
    "# Combine the data into a single dataset\n",
    "school_data_complete_df = pd.merge(students_df, schools_df, on=[\"school_name\",\"school_name\"])\n",
    "school_data_complete_df.head()"
   ]
  },
  {
   "cell_type": "code",
   "execution_count": 211,
   "id": "cd925ba2",
   "metadata": {},
   "outputs": [
    {
     "data": {
      "text/plain": [
       "39170"
      ]
     },
     "execution_count": 211,
     "metadata": {},
     "output_type": "execute_result"
    }
   ],
   "source": [
    "# Calculate the number of unique Students\n",
    "student_count = school_data_complete_df['Student ID'].count()\n",
    "student_count"
   ]
  },
  {
   "cell_type": "code",
   "execution_count": 212,
   "id": "10d10210",
   "metadata": {},
   "outputs": [
    {
     "data": {
      "text/plain": [
       "15"
      ]
     },
     "execution_count": 212,
     "metadata": {},
     "output_type": "execute_result"
    }
   ],
   "source": [
    "# Calculate the number of unique Schools\n",
    "school_count = len(school_data_complete_df['School ID'].unique())\n",
    "school_count"
   ]
  },
  {
   "cell_type": "code",
   "execution_count": 213,
   "id": "a2d9b144",
   "metadata": {},
   "outputs": [
    {
     "data": {
      "text/plain": [
       "24649428"
      ]
     },
     "execution_count": 213,
     "metadata": {},
     "output_type": "execute_result"
    }
   ],
   "source": [
    "# Calculate the sum of Budget for each School\n",
    "school_budget = schools_df['budget'].sum()\n",
    "school_budget"
   ]
  },
  {
   "cell_type": "code",
   "execution_count": 214,
   "id": "4d763157",
   "metadata": {},
   "outputs": [
    {
     "data": {
      "text/plain": [
       "81.87784018381414"
      ]
     },
     "execution_count": 214,
     "metadata": {},
     "output_type": "execute_result"
    }
   ],
   "source": [
    "# Average Reading Score\n",
    "mean_reading = school_data_complete_df['reading_score'].mean()\n",
    "mean_reading"
   ]
  },
  {
   "cell_type": "code",
   "execution_count": 215,
   "id": "9aa4bbea",
   "metadata": {},
   "outputs": [
    {
     "data": {
      "text/plain": [
       "78.98537145774827"
      ]
     },
     "execution_count": 215,
     "metadata": {},
     "output_type": "execute_result"
    }
   ],
   "source": [
    "# Average Math Score\n",
    "mean_math = school_data_complete_df['math_score'].mean()\n",
    "mean_math"
   ]
  },
  {
   "cell_type": "code",
   "execution_count": 216,
   "id": "3596c065",
   "metadata": {},
   "outputs": [],
   "source": [
    "# Set a new variable of a series of booleans to compare the math and reading scores v the passing grade\n",
    "passing_math_dep = school_data_complete_df['math_score'] >= 70\n",
    "passing_reading_dep = school_data_complete_df['reading_score'] >= 70"
   ]
  },
  {
   "cell_type": "code",
   "execution_count": 217,
   "id": "cced647e",
   "metadata": {},
   "outputs": [],
   "source": [
    "# Get only the students that passed math and reading\n",
    "passing_math = school_data_complete_df[school_data_complete_df['math_score'] >= 70]\n",
    "passing_reading = school_data_complete_df[school_data_complete_df['reading_score'] >= 70]"
   ]
  },
  {
   "cell_type": "code",
   "execution_count": 218,
   "id": "16c46237",
   "metadata": {},
   "outputs": [],
   "source": [
    "# Get the number of students who passed both subjects and put them in different variables\n",
    "passing_math_count = passing_math[\"student_name\"].count()\n",
    "passing_reading_count = passing_reading[\"student_name\"].count()"
   ]
  },
  {
   "cell_type": "code",
   "execution_count": 219,
   "id": "6085726a",
   "metadata": {},
   "outputs": [],
   "source": [
    "# Get the % of those who passed each subject\n",
    "passing_math_percentage = (passing_math_count / student_count) * 100\n",
    "passing_reading_percentage = (passing_reading_count / student_count) * 100"
   ]
  },
  {
   "cell_type": "code",
   "execution_count": 220,
   "id": "87cb4ef2",
   "metadata": {},
   "outputs": [],
   "source": [
    "# Get a new DataFrame of those who passed reading and math and assign the number of students to new variable\n",
    "passing_both = school_data_complete_df[(school_data_complete_df['math_score'] >= 70) & (school_data_complete_df['reading_score'] >= 70)]\n",
    "passing_both_count = passing_both['Student ID'].count()"
   ]
  },
  {
   "cell_type": "code",
   "execution_count": 221,
   "id": "89ce193b",
   "metadata": {},
   "outputs": [
    {
     "data": {
      "text/plain": [
       "65.17232575950983"
      ]
     },
     "execution_count": 221,
     "metadata": {},
     "output_type": "execute_result"
    }
   ],
   "source": [
    "# Get the percentage of those that passed both reading and math\n",
    "overall_pass_both_percentage = (passing_both_count / student_count) * 100\n",
    "overall_pass_both_percentage"
   ]
  },
  {
   "cell_type": "code",
   "execution_count": 222,
   "id": "819e37c3",
   "metadata": {},
   "outputs": [
    {
     "data": {
      "text/html": [
       "<div>\n",
       "<style scoped>\n",
       "    .dataframe tbody tr th:only-of-type {\n",
       "        vertical-align: middle;\n",
       "    }\n",
       "\n",
       "    .dataframe tbody tr th {\n",
       "        vertical-align: top;\n",
       "    }\n",
       "\n",
       "    .dataframe thead th {\n",
       "        text-align: right;\n",
       "    }\n",
       "</style>\n",
       "<table border=\"1\" class=\"dataframe\">\n",
       "  <thead>\n",
       "    <tr style=\"text-align: right;\">\n",
       "      <th></th>\n",
       "      <th>Total Schools</th>\n",
       "      <th>Total Students</th>\n",
       "      <th>Total Budget</th>\n",
       "      <th>Average Reading Score</th>\n",
       "      <th>Average Math Score</th>\n",
       "      <th>% Passing Reading</th>\n",
       "      <th>% Passing Math</th>\n",
       "      <th>% Overall Passing</th>\n",
       "    </tr>\n",
       "  </thead>\n",
       "  <tbody>\n",
       "    <tr>\n",
       "      <th>0</th>\n",
       "      <td>15</td>\n",
       "      <td>39170</td>\n",
       "      <td>24649428</td>\n",
       "      <td>81.87784</td>\n",
       "      <td>78.985371</td>\n",
       "      <td>85.805463</td>\n",
       "      <td>74.980853</td>\n",
       "      <td>65.172326</td>\n",
       "    </tr>\n",
       "  </tbody>\n",
       "</table>\n",
       "</div>"
      ],
      "text/plain": [
       "   Total Schools  Total Students  Total Budget  Average Reading Score  \\\n",
       "0             15           39170      24649428               81.87784   \n",
       "\n",
       "   Average Math Score  % Passing Reading  % Passing Math  % Overall Passing  \n",
       "0           78.985371          85.805463       74.980853          65.172326  "
      ]
     },
     "execution_count": 222,
     "metadata": {},
     "output_type": "execute_result"
    }
   ],
   "source": [
    "# Assign the summary statistics to a new DataFrame\n",
    "district_summary_df = pd.DataFrame(\n",
    "    [{'Total Schools': school_count,\n",
    "      'Total Students': student_count,\n",
    "      'Total Budget': school_budget,\n",
    "      'Average Reading Score': mean_reading,\n",
    "      'Average Math Score': mean_math,\n",
    "      '% Passing Reading': passing_reading_percentage,\n",
    "      '% Passing Math': passing_math_percentage,\n",
    "      '% Overall Passing': overall_pass_both_percentage}])\n",
    "district_summary_df"
   ]
  },
  {
   "cell_type": "code",
   "execution_count": 223,
   "id": "ebcec03d",
   "metadata": {},
   "outputs": [
    {
     "data": {
      "text/plain": [
       "0    39,170\n",
       "Name: Total Students, dtype: object"
      ]
     },
     "execution_count": 223,
     "metadata": {},
     "output_type": "execute_result"
    }
   ],
   "source": [
    "# Format the \"Total Students\" to have the comma for a thousands separator.\n",
    "district_summary_df[\"Total Students\"] = district_summary_df[\"Total Students\"].map(\"{:,}\".format)\n",
    "district_summary_df[\"Total Students\"]"
   ]
  },
  {
   "cell_type": "code",
   "execution_count": 224,
   "id": "343585c0",
   "metadata": {},
   "outputs": [
    {
     "data": {
      "text/plain": [
       "0    $24,649,428.00\n",
       "Name: Total Budget, dtype: object"
      ]
     },
     "execution_count": 224,
     "metadata": {},
     "output_type": "execute_result"
    }
   ],
   "source": [
    "district_summary_df[\"Total Budget\"] = district_summary_df[\"Total Budget\"].map(\"${:,.2f}\".format)\n",
    "district_summary_df[\"Total Budget\"]"
   ]
  },
  {
   "cell_type": "code",
   "execution_count": 225,
   "id": "d4fcbbb8",
   "metadata": {},
   "outputs": [
    {
     "data": {
      "text/plain": [
       "0    81.9\n",
       "Name: Average Reading Score, dtype: object"
      ]
     },
     "execution_count": 225,
     "metadata": {},
     "output_type": "execute_result"
    }
   ],
   "source": [
    "district_summary_df[\"Average Reading Score\"] = district_summary_df[\"Average Reading Score\"].map(\"{:.1f}\".format)\n",
    "district_summary_df[\"Average Reading Score\"]"
   ]
  },
  {
   "cell_type": "code",
   "execution_count": 226,
   "id": "383d1639",
   "metadata": {},
   "outputs": [
    {
     "data": {
      "text/plain": [
       "0    79.0\n",
       "Name: Average Math Score, dtype: object"
      ]
     },
     "execution_count": 226,
     "metadata": {},
     "output_type": "execute_result"
    }
   ],
   "source": [
    "district_summary_df[\"Average Math Score\"] = district_summary_df[\"Average Math Score\"].map(\"{:.1f}\".format)\n",
    "district_summary_df[\"Average Math Score\"]"
   ]
  },
  {
   "cell_type": "code",
   "execution_count": 227,
   "id": "11529024",
   "metadata": {},
   "outputs": [],
   "source": [
    "district_summary_df[\"% Passing Math\"] = district_summary_df[\"% Passing Math\"].map(\"{:.0f}\".format)\n",
    "\n",
    "district_summary_df[\"% Passing Reading\"] = district_summary_df[\"% Passing Reading\"].map(\"{:.0f}\".format)\n",
    "\n",
    "district_summary_df[\"% Overall Passing\"] = district_summary_df[\"% Overall Passing\"].map(\"{:.0f}\".format)"
   ]
  },
  {
   "cell_type": "code",
   "execution_count": 228,
   "id": "d0fd5b7c",
   "metadata": {},
   "outputs": [
    {
     "data": {
      "text/html": [
       "<div>\n",
       "<style scoped>\n",
       "    .dataframe tbody tr th:only-of-type {\n",
       "        vertical-align: middle;\n",
       "    }\n",
       "\n",
       "    .dataframe tbody tr th {\n",
       "        vertical-align: top;\n",
       "    }\n",
       "\n",
       "    .dataframe thead th {\n",
       "        text-align: right;\n",
       "    }\n",
       "</style>\n",
       "<table border=\"1\" class=\"dataframe\">\n",
       "  <thead>\n",
       "    <tr style=\"text-align: right;\">\n",
       "      <th></th>\n",
       "      <th>Total Schools</th>\n",
       "      <th>Total Students</th>\n",
       "      <th>Total Budget</th>\n",
       "      <th>Average Reading Score</th>\n",
       "      <th>Average Math Score</th>\n",
       "      <th>% Passing Reading</th>\n",
       "      <th>% Passing Math</th>\n",
       "      <th>% Overall Passing</th>\n",
       "    </tr>\n",
       "  </thead>\n",
       "  <tbody>\n",
       "    <tr>\n",
       "      <th>0</th>\n",
       "      <td>15</td>\n",
       "      <td>39,170</td>\n",
       "      <td>$24,649,428.00</td>\n",
       "      <td>81.9</td>\n",
       "      <td>79.0</td>\n",
       "      <td>86</td>\n",
       "      <td>75</td>\n",
       "      <td>65</td>\n",
       "    </tr>\n",
       "  </tbody>\n",
       "</table>\n",
       "</div>"
      ],
      "text/plain": [
       "   Total Schools Total Students    Total Budget Average Reading Score  \\\n",
       "0             15         39,170  $24,649,428.00                  81.9   \n",
       "\n",
       "  Average Math Score % Passing Reading % Passing Math % Overall Passing  \n",
       "0               79.0                86             75                65  "
      ]
     },
     "execution_count": 228,
     "metadata": {},
     "output_type": "execute_result"
    }
   ],
   "source": [
    "district_summary_df"
   ]
  },
  {
   "cell_type": "code",
   "execution_count": 229,
   "id": "171d30b9",
   "metadata": {},
   "outputs": [
    {
     "data": {
      "text/html": [
       "<div>\n",
       "<style scoped>\n",
       "    .dataframe tbody tr th:only-of-type {\n",
       "        vertical-align: middle;\n",
       "    }\n",
       "\n",
       "    .dataframe tbody tr th {\n",
       "        vertical-align: top;\n",
       "    }\n",
       "\n",
       "    .dataframe thead th {\n",
       "        text-align: right;\n",
       "    }\n",
       "</style>\n",
       "<table border=\"1\" class=\"dataframe\">\n",
       "  <thead>\n",
       "    <tr style=\"text-align: right;\">\n",
       "      <th></th>\n",
       "      <th>School ID</th>\n",
       "      <th>school_name</th>\n",
       "      <th>type</th>\n",
       "      <th>size</th>\n",
       "      <th>budget</th>\n",
       "    </tr>\n",
       "  </thead>\n",
       "  <tbody>\n",
       "    <tr>\n",
       "      <th>0</th>\n",
       "      <td>0</td>\n",
       "      <td>Huang High School</td>\n",
       "      <td>District</td>\n",
       "      <td>2917</td>\n",
       "      <td>1910635</td>\n",
       "    </tr>\n",
       "    <tr>\n",
       "      <th>1</th>\n",
       "      <td>1</td>\n",
       "      <td>Figueroa High School</td>\n",
       "      <td>District</td>\n",
       "      <td>2949</td>\n",
       "      <td>1884411</td>\n",
       "    </tr>\n",
       "    <tr>\n",
       "      <th>2</th>\n",
       "      <td>2</td>\n",
       "      <td>Shelton High School</td>\n",
       "      <td>Charter</td>\n",
       "      <td>1761</td>\n",
       "      <td>1056600</td>\n",
       "    </tr>\n",
       "    <tr>\n",
       "      <th>3</th>\n",
       "      <td>3</td>\n",
       "      <td>Hernandez High School</td>\n",
       "      <td>District</td>\n",
       "      <td>4635</td>\n",
       "      <td>3022020</td>\n",
       "    </tr>\n",
       "    <tr>\n",
       "      <th>4</th>\n",
       "      <td>4</td>\n",
       "      <td>Griffin High School</td>\n",
       "      <td>Charter</td>\n",
       "      <td>1468</td>\n",
       "      <td>917500</td>\n",
       "    </tr>\n",
       "    <tr>\n",
       "      <th>5</th>\n",
       "      <td>5</td>\n",
       "      <td>Wilson High School</td>\n",
       "      <td>Charter</td>\n",
       "      <td>2283</td>\n",
       "      <td>1319574</td>\n",
       "    </tr>\n",
       "    <tr>\n",
       "      <th>6</th>\n",
       "      <td>6</td>\n",
       "      <td>Cabrera High School</td>\n",
       "      <td>Charter</td>\n",
       "      <td>1858</td>\n",
       "      <td>1081356</td>\n",
       "    </tr>\n",
       "    <tr>\n",
       "      <th>7</th>\n",
       "      <td>7</td>\n",
       "      <td>Bailey High School</td>\n",
       "      <td>District</td>\n",
       "      <td>4976</td>\n",
       "      <td>3124928</td>\n",
       "    </tr>\n",
       "    <tr>\n",
       "      <th>8</th>\n",
       "      <td>8</td>\n",
       "      <td>Holden High School</td>\n",
       "      <td>Charter</td>\n",
       "      <td>427</td>\n",
       "      <td>248087</td>\n",
       "    </tr>\n",
       "    <tr>\n",
       "      <th>9</th>\n",
       "      <td>9</td>\n",
       "      <td>Pena High School</td>\n",
       "      <td>Charter</td>\n",
       "      <td>962</td>\n",
       "      <td>585858</td>\n",
       "    </tr>\n",
       "    <tr>\n",
       "      <th>10</th>\n",
       "      <td>10</td>\n",
       "      <td>Wright High School</td>\n",
       "      <td>Charter</td>\n",
       "      <td>1800</td>\n",
       "      <td>1049400</td>\n",
       "    </tr>\n",
       "    <tr>\n",
       "      <th>11</th>\n",
       "      <td>11</td>\n",
       "      <td>Rodriguez High School</td>\n",
       "      <td>District</td>\n",
       "      <td>3999</td>\n",
       "      <td>2547363</td>\n",
       "    </tr>\n",
       "    <tr>\n",
       "      <th>12</th>\n",
       "      <td>12</td>\n",
       "      <td>Johnson High School</td>\n",
       "      <td>District</td>\n",
       "      <td>4761</td>\n",
       "      <td>3094650</td>\n",
       "    </tr>\n",
       "    <tr>\n",
       "      <th>13</th>\n",
       "      <td>13</td>\n",
       "      <td>Ford High School</td>\n",
       "      <td>District</td>\n",
       "      <td>2739</td>\n",
       "      <td>1763916</td>\n",
       "    </tr>\n",
       "    <tr>\n",
       "      <th>14</th>\n",
       "      <td>14</td>\n",
       "      <td>Thomas High School</td>\n",
       "      <td>Charter</td>\n",
       "      <td>1635</td>\n",
       "      <td>1043130</td>\n",
       "    </tr>\n",
       "  </tbody>\n",
       "</table>\n",
       "</div>"
      ],
      "text/plain": [
       "    School ID            school_name      type  size   budget\n",
       "0           0      Huang High School  District  2917  1910635\n",
       "1           1   Figueroa High School  District  2949  1884411\n",
       "2           2    Shelton High School   Charter  1761  1056600\n",
       "3           3  Hernandez High School  District  4635  3022020\n",
       "4           4    Griffin High School   Charter  1468   917500\n",
       "5           5     Wilson High School   Charter  2283  1319574\n",
       "6           6    Cabrera High School   Charter  1858  1081356\n",
       "7           7     Bailey High School  District  4976  3124928\n",
       "8           8     Holden High School   Charter   427   248087\n",
       "9           9       Pena High School   Charter   962   585858\n",
       "10         10     Wright High School   Charter  1800  1049400\n",
       "11         11  Rodriguez High School  District  3999  2547363\n",
       "12         12    Johnson High School  District  4761  3094650\n",
       "13         13       Ford High School  District  2739  1763916\n",
       "14         14     Thomas High School   Charter  1635  1043130"
      ]
     },
     "execution_count": 229,
     "metadata": {},
     "output_type": "execute_result"
    }
   ],
   "source": [
    "schools_df"
   ]
  },
  {
   "cell_type": "code",
   "execution_count": 230,
   "id": "0c7972c0",
   "metadata": {},
   "outputs": [
    {
     "data": {
      "text/plain": [
       "school_name\n",
       "Huang High School        District\n",
       "Figueroa High School     District\n",
       "Shelton High School       Charter\n",
       "Hernandez High School    District\n",
       "Griffin High School       Charter\n",
       "Wilson High School        Charter\n",
       "Cabrera High School       Charter\n",
       "Bailey High School       District\n",
       "Holden High School        Charter\n",
       "Pena High School          Charter\n",
       "Wright High School        Charter\n",
       "Rodriguez High School    District\n",
       "Johnson High School      District\n",
       "Ford High School         District\n",
       "Thomas High School        Charter\n",
       "Name: type, dtype: object"
      ]
     },
     "execution_count": 230,
     "metadata": {},
     "output_type": "execute_result"
    }
   ],
   "source": [
    "# Determine the School Type\n",
    "per_school_types = schools_df.set_index([\"school_name\"])[\"type\"]\n",
    "per_school_types"
   ]
  },
  {
   "cell_type": "code",
   "execution_count": 231,
   "id": "30d1a081",
   "metadata": {},
   "outputs": [
    {
     "data": {
      "text/plain": [
       "0     2917\n",
       "1     2949\n",
       "2     1761\n",
       "3     4635\n",
       "4     1468\n",
       "5     2283\n",
       "6     1858\n",
       "7     4976\n",
       "8      427\n",
       "9      962\n",
       "10    1800\n",
       "11    3999\n",
       "12    4761\n",
       "13    2739\n",
       "14    1635\n",
       "Name: size, dtype: int64"
      ]
     },
     "execution_count": 231,
     "metadata": {},
     "output_type": "execute_result"
    }
   ],
   "source": [
    "per_school_size = schools_df['size']\n",
    "per_school_size"
   ]
  },
  {
   "cell_type": "code",
   "execution_count": 232,
   "id": "ebfe25e2",
   "metadata": {},
   "outputs": [
    {
     "data": {
      "text/html": [
       "<div>\n",
       "<style scoped>\n",
       "    .dataframe tbody tr th:only-of-type {\n",
       "        vertical-align: middle;\n",
       "    }\n",
       "\n",
       "    .dataframe tbody tr th {\n",
       "        vertical-align: top;\n",
       "    }\n",
       "\n",
       "    .dataframe thead th {\n",
       "        text-align: right;\n",
       "    }\n",
       "</style>\n",
       "<table border=\"1\" class=\"dataframe\">\n",
       "  <thead>\n",
       "    <tr style=\"text-align: right;\">\n",
       "      <th></th>\n",
       "      <th>School ID</th>\n",
       "      <th>school_name</th>\n",
       "      <th>type</th>\n",
       "      <th>size</th>\n",
       "      <th>budget</th>\n",
       "    </tr>\n",
       "  </thead>\n",
       "  <tbody>\n",
       "    <tr>\n",
       "      <th>0</th>\n",
       "      <td>0</td>\n",
       "      <td>Huang High School</td>\n",
       "      <td>District</td>\n",
       "      <td>2917</td>\n",
       "      <td>1910635</td>\n",
       "    </tr>\n",
       "    <tr>\n",
       "      <th>1</th>\n",
       "      <td>1</td>\n",
       "      <td>Figueroa High School</td>\n",
       "      <td>District</td>\n",
       "      <td>2949</td>\n",
       "      <td>1884411</td>\n",
       "    </tr>\n",
       "    <tr>\n",
       "      <th>2</th>\n",
       "      <td>2</td>\n",
       "      <td>Shelton High School</td>\n",
       "      <td>Charter</td>\n",
       "      <td>1761</td>\n",
       "      <td>1056600</td>\n",
       "    </tr>\n",
       "    <tr>\n",
       "      <th>3</th>\n",
       "      <td>3</td>\n",
       "      <td>Hernandez High School</td>\n",
       "      <td>District</td>\n",
       "      <td>4635</td>\n",
       "      <td>3022020</td>\n",
       "    </tr>\n",
       "    <tr>\n",
       "      <th>4</th>\n",
       "      <td>4</td>\n",
       "      <td>Griffin High School</td>\n",
       "      <td>Charter</td>\n",
       "      <td>1468</td>\n",
       "      <td>917500</td>\n",
       "    </tr>\n",
       "    <tr>\n",
       "      <th>5</th>\n",
       "      <td>5</td>\n",
       "      <td>Wilson High School</td>\n",
       "      <td>Charter</td>\n",
       "      <td>2283</td>\n",
       "      <td>1319574</td>\n",
       "    </tr>\n",
       "    <tr>\n",
       "      <th>6</th>\n",
       "      <td>6</td>\n",
       "      <td>Cabrera High School</td>\n",
       "      <td>Charter</td>\n",
       "      <td>1858</td>\n",
       "      <td>1081356</td>\n",
       "    </tr>\n",
       "    <tr>\n",
       "      <th>7</th>\n",
       "      <td>7</td>\n",
       "      <td>Bailey High School</td>\n",
       "      <td>District</td>\n",
       "      <td>4976</td>\n",
       "      <td>3124928</td>\n",
       "    </tr>\n",
       "    <tr>\n",
       "      <th>8</th>\n",
       "      <td>8</td>\n",
       "      <td>Holden High School</td>\n",
       "      <td>Charter</td>\n",
       "      <td>427</td>\n",
       "      <td>248087</td>\n",
       "    </tr>\n",
       "    <tr>\n",
       "      <th>9</th>\n",
       "      <td>9</td>\n",
       "      <td>Pena High School</td>\n",
       "      <td>Charter</td>\n",
       "      <td>962</td>\n",
       "      <td>585858</td>\n",
       "    </tr>\n",
       "    <tr>\n",
       "      <th>10</th>\n",
       "      <td>10</td>\n",
       "      <td>Wright High School</td>\n",
       "      <td>Charter</td>\n",
       "      <td>1800</td>\n",
       "      <td>1049400</td>\n",
       "    </tr>\n",
       "    <tr>\n",
       "      <th>11</th>\n",
       "      <td>11</td>\n",
       "      <td>Rodriguez High School</td>\n",
       "      <td>District</td>\n",
       "      <td>3999</td>\n",
       "      <td>2547363</td>\n",
       "    </tr>\n",
       "    <tr>\n",
       "      <th>12</th>\n",
       "      <td>12</td>\n",
       "      <td>Johnson High School</td>\n",
       "      <td>District</td>\n",
       "      <td>4761</td>\n",
       "      <td>3094650</td>\n",
       "    </tr>\n",
       "    <tr>\n",
       "      <th>13</th>\n",
       "      <td>13</td>\n",
       "      <td>Ford High School</td>\n",
       "      <td>District</td>\n",
       "      <td>2739</td>\n",
       "      <td>1763916</td>\n",
       "    </tr>\n",
       "    <tr>\n",
       "      <th>14</th>\n",
       "      <td>14</td>\n",
       "      <td>Thomas High School</td>\n",
       "      <td>Charter</td>\n",
       "      <td>1635</td>\n",
       "      <td>1043130</td>\n",
       "    </tr>\n",
       "  </tbody>\n",
       "</table>\n",
       "</div>"
      ],
      "text/plain": [
       "    School ID            school_name      type  size   budget\n",
       "0           0      Huang High School  District  2917  1910635\n",
       "1           1   Figueroa High School  District  2949  1884411\n",
       "2           2    Shelton High School   Charter  1761  1056600\n",
       "3           3  Hernandez High School  District  4635  3022020\n",
       "4           4    Griffin High School   Charter  1468   917500\n",
       "5           5     Wilson High School   Charter  2283  1319574\n",
       "6           6    Cabrera High School   Charter  1858  1081356\n",
       "7           7     Bailey High School  District  4976  3124928\n",
       "8           8     Holden High School   Charter   427   248087\n",
       "9           9       Pena High School   Charter   962   585858\n",
       "10         10     Wright High School   Charter  1800  1049400\n",
       "11         11  Rodriguez High School  District  3999  2547363\n",
       "12         12    Johnson High School  District  4761  3094650\n",
       "13         13       Ford High School  District  2739  1763916\n",
       "14         14     Thomas High School   Charter  1635  1043130"
      ]
     },
     "execution_count": 232,
     "metadata": {},
     "output_type": "execute_result"
    }
   ],
   "source": [
    "schools_df"
   ]
  },
  {
   "cell_type": "code",
   "execution_count": 233,
   "id": "8e933d9d",
   "metadata": {},
   "outputs": [
    {
     "data": {
      "text/plain": [
       "school_name\n",
       "Huang High School        2917\n",
       "Figueroa High School     2949\n",
       "Shelton High School      1761\n",
       "Hernandez High School    4635\n",
       "Griffin High School      1468\n",
       "Wilson High School       2283\n",
       "Cabrera High School      1858\n",
       "Bailey High School       4976\n",
       "Holden High School        427\n",
       "Pena High School          962\n",
       "Wright High School       1800\n",
       "Rodriguez High School    3999\n",
       "Johnson High School      4761\n",
       "Ford High School         2739\n",
       "Thomas High School       1635\n",
       "Name: size, dtype: int64"
      ]
     },
     "execution_count": 233,
     "metadata": {},
     "output_type": "execute_result"
    }
   ],
   "source": [
    "per_schools_count = schools_df.set_index(['school_name'])['size']\n",
    "per_schools_count"
   ]
  },
  {
   "cell_type": "code",
   "execution_count": 234,
   "id": "34ccac1f",
   "metadata": {},
   "outputs": [
    {
     "data": {
      "text/html": [
       "<div>\n",
       "<style scoped>\n",
       "    .dataframe tbody tr th:only-of-type {\n",
       "        vertical-align: middle;\n",
       "    }\n",
       "\n",
       "    .dataframe tbody tr th {\n",
       "        vertical-align: top;\n",
       "    }\n",
       "\n",
       "    .dataframe thead th {\n",
       "        text-align: right;\n",
       "    }\n",
       "</style>\n",
       "<table border=\"1\" class=\"dataframe\">\n",
       "  <thead>\n",
       "    <tr style=\"text-align: right;\">\n",
       "      <th></th>\n",
       "      <th>size</th>\n",
       "    </tr>\n",
       "    <tr>\n",
       "      <th>school_name</th>\n",
       "      <th></th>\n",
       "    </tr>\n",
       "  </thead>\n",
       "  <tbody>\n",
       "    <tr>\n",
       "      <th>Huang High School</th>\n",
       "      <td>2917</td>\n",
       "    </tr>\n",
       "    <tr>\n",
       "      <th>Figueroa High School</th>\n",
       "      <td>2949</td>\n",
       "    </tr>\n",
       "    <tr>\n",
       "      <th>Shelton High School</th>\n",
       "      <td>1761</td>\n",
       "    </tr>\n",
       "    <tr>\n",
       "      <th>Hernandez High School</th>\n",
       "      <td>4635</td>\n",
       "    </tr>\n",
       "    <tr>\n",
       "      <th>Griffin High School</th>\n",
       "      <td>1468</td>\n",
       "    </tr>\n",
       "    <tr>\n",
       "      <th>Wilson High School</th>\n",
       "      <td>2283</td>\n",
       "    </tr>\n",
       "    <tr>\n",
       "      <th>Cabrera High School</th>\n",
       "      <td>1858</td>\n",
       "    </tr>\n",
       "    <tr>\n",
       "      <th>Bailey High School</th>\n",
       "      <td>4976</td>\n",
       "    </tr>\n",
       "    <tr>\n",
       "      <th>Holden High School</th>\n",
       "      <td>427</td>\n",
       "    </tr>\n",
       "    <tr>\n",
       "      <th>Pena High School</th>\n",
       "      <td>962</td>\n",
       "    </tr>\n",
       "    <tr>\n",
       "      <th>Wright High School</th>\n",
       "      <td>1800</td>\n",
       "    </tr>\n",
       "    <tr>\n",
       "      <th>Rodriguez High School</th>\n",
       "      <td>3999</td>\n",
       "    </tr>\n",
       "    <tr>\n",
       "      <th>Johnson High School</th>\n",
       "      <td>4761</td>\n",
       "    </tr>\n",
       "    <tr>\n",
       "      <th>Ford High School</th>\n",
       "      <td>2739</td>\n",
       "    </tr>\n",
       "    <tr>\n",
       "      <th>Thomas High School</th>\n",
       "      <td>1635</td>\n",
       "    </tr>\n",
       "  </tbody>\n",
       "</table>\n",
       "</div>"
      ],
      "text/plain": [
       "                       size\n",
       "school_name                \n",
       "Huang High School      2917\n",
       "Figueroa High School   2949\n",
       "Shelton High School    1761\n",
       "Hernandez High School  4635\n",
       "Griffin High School    1468\n",
       "Wilson High School     2283\n",
       "Cabrera High School    1858\n",
       "Bailey High School     4976\n",
       "Holden High School      427\n",
       "Pena High School        962\n",
       "Wright High School     1800\n",
       "Rodriguez High School  3999\n",
       "Johnson High School    4761\n",
       "Ford High School       2739\n",
       "Thomas High School     1635"
      ]
     },
     "execution_count": 234,
     "metadata": {},
     "output_type": "execute_result"
    }
   ],
   "source": [
    "per_schools_count_df = pd.DataFrame(per_schools_count)\n",
    "per_schools_count_df"
   ]
  },
  {
   "cell_type": "code",
   "execution_count": 235,
   "id": "dc54aa20",
   "metadata": {},
   "outputs": [
    {
     "data": {
      "text/plain": [
       "Bailey High School       4976\n",
       "Johnson High School      4761\n",
       "Hernandez High School    4635\n",
       "Rodriguez High School    3999\n",
       "Figueroa High School     2949\n",
       "Huang High School        2917\n",
       "Ford High School         2739\n",
       "Wilson High School       2283\n",
       "Cabrera High School      1858\n",
       "Wright High School       1800\n",
       "Shelton High School      1761\n",
       "Thomas High School       1635\n",
       "Griffin High School      1468\n",
       "Pena High School          962\n",
       "Holden High School        427\n",
       "Name: school_name, dtype: int64"
      ]
     },
     "execution_count": 235,
     "metadata": {},
     "output_type": "execute_result"
    }
   ],
   "source": [
    "# Calculate the total student count.\n",
    "per_school_counts = school_data_complete_df[\"school_name\"].value_counts()\n",
    "per_school_counts"
   ]
  },
  {
   "cell_type": "code",
   "execution_count": 236,
   "id": "25283c41",
   "metadata": {},
   "outputs": [
    {
     "data": {
      "text/plain": [
       "school_name\n",
       "Huang High School        1910635\n",
       "Figueroa High School     1884411\n",
       "Shelton High School      1056600\n",
       "Hernandez High School    3022020\n",
       "Griffin High School       917500\n",
       "Wilson High School       1319574\n",
       "Cabrera High School      1081356\n",
       "Bailey High School       3124928\n",
       "Holden High School        248087\n",
       "Pena High School          585858\n",
       "Wright High School       1049400\n",
       "Rodriguez High School    2547363\n",
       "Johnson High School      3094650\n",
       "Ford High School         1763916\n",
       "Thomas High School       1043130\n",
       "Name: budget, dtype: int64"
      ]
     },
     "execution_count": 236,
     "metadata": {},
     "output_type": "execute_result"
    }
   ],
   "source": [
    "per_school_budget = schools_df.set_index(['school_name'])['budget']\n",
    "per_school_budget"
   ]
  },
  {
   "cell_type": "code",
   "execution_count": 237,
   "id": "17e82fdb",
   "metadata": {},
   "outputs": [
    {
     "data": {
      "text/plain": [
       "Bailey High School       628.0\n",
       "Cabrera High School      582.0\n",
       "Figueroa High School     639.0\n",
       "Ford High School         644.0\n",
       "Griffin High School      625.0\n",
       "Hernandez High School    652.0\n",
       "Holden High School       581.0\n",
       "Huang High School        655.0\n",
       "Johnson High School      650.0\n",
       "Pena High School         609.0\n",
       "Rodriguez High School    637.0\n",
       "Shelton High School      600.0\n",
       "Thomas High School       638.0\n",
       "Wilson High School       578.0\n",
       "Wright High School       583.0\n",
       "dtype: float64"
      ]
     },
     "execution_count": 237,
     "metadata": {},
     "output_type": "execute_result"
    }
   ],
   "source": [
    "per_school_capita = per_school_budget / per_school_counts\n",
    "per_school_capita"
   ]
  },
  {
   "cell_type": "code",
   "execution_count": 238,
   "id": "036e6bbf",
   "metadata": {},
   "outputs": [],
   "source": [
    "math_score_per_school = school_data_complete_df.groupby(['school_name']).mean()['math_score']"
   ]
  },
  {
   "cell_type": "code",
   "execution_count": 239,
   "id": "229034a9",
   "metadata": {},
   "outputs": [],
   "source": [
    "reading_score_per_school = school_data_complete_df.groupby(['school_name']).mean()['reading_score']"
   ]
  },
  {
   "cell_type": "code",
   "execution_count": 240,
   "id": "cbc80254",
   "metadata": {},
   "outputs": [],
   "source": [
    "per_school_passing_math = school_data_complete_df[school_data_complete_df['math_score'] >= 70]\n",
    "per_school_passing_reading = school_data_complete_df[school_data_complete_df['reading_score'] >= 70]"
   ]
  },
  {
   "cell_type": "code",
   "execution_count": 241,
   "id": "9229bb1a",
   "metadata": {},
   "outputs": [],
   "source": [
    "per_school_passing_math = per_school_passing_math.groupby(['school_name']).count()['math_score']\n",
    "per_school_passing_reading = per_school_passing_reading.groupby(['school_name']).count()['reading_score']"
   ]
  },
  {
   "cell_type": "code",
   "execution_count": 242,
   "id": "123b1b67",
   "metadata": {},
   "outputs": [],
   "source": [
    "per_school_passing_math = per_school_passing_math / per_school_counts * 100\n",
    "per_school_passing_reading = per_school_passing_reading / per_school_counts * 100"
   ]
  },
  {
   "cell_type": "code",
   "execution_count": 243,
   "id": "e61ebc7e",
   "metadata": {},
   "outputs": [
    {
     "data": {
      "text/plain": [
       "Index(['Student ID', 'student_name', 'gender', 'grade', 'school_name',\n",
       "       'reading_score', 'math_score', 'School ID', 'type', 'size', 'budget'],\n",
       "      dtype='object')"
      ]
     },
     "execution_count": 243,
     "metadata": {},
     "output_type": "execute_result"
    }
   ],
   "source": [
    "school_data_complete_df.columns"
   ]
  },
  {
   "cell_type": "code",
   "execution_count": 244,
   "id": "2032e6ba",
   "metadata": {},
   "outputs": [
    {
     "data": {
      "text/html": [
       "<div>\n",
       "<style scoped>\n",
       "    .dataframe tbody tr th:only-of-type {\n",
       "        vertical-align: middle;\n",
       "    }\n",
       "\n",
       "    .dataframe tbody tr th {\n",
       "        vertical-align: top;\n",
       "    }\n",
       "\n",
       "    .dataframe thead th {\n",
       "        text-align: right;\n",
       "    }\n",
       "</style>\n",
       "<table border=\"1\" class=\"dataframe\">\n",
       "  <thead>\n",
       "    <tr style=\"text-align: right;\">\n",
       "      <th></th>\n",
       "      <th>Student ID</th>\n",
       "      <th>student_name</th>\n",
       "      <th>gender</th>\n",
       "      <th>grade</th>\n",
       "      <th>school_name</th>\n",
       "      <th>reading_score</th>\n",
       "      <th>math_score</th>\n",
       "      <th>School ID</th>\n",
       "      <th>type</th>\n",
       "      <th>size</th>\n",
       "      <th>budget</th>\n",
       "    </tr>\n",
       "  </thead>\n",
       "  <tbody>\n",
       "    <tr>\n",
       "      <th>4</th>\n",
       "      <td>4</td>\n",
       "      <td>Bonnie Ray</td>\n",
       "      <td>F</td>\n",
       "      <td>9th</td>\n",
       "      <td>Huang High School</td>\n",
       "      <td>97</td>\n",
       "      <td>84</td>\n",
       "      <td>0</td>\n",
       "      <td>District</td>\n",
       "      <td>2917</td>\n",
       "      <td>1910635</td>\n",
       "    </tr>\n",
       "    <tr>\n",
       "      <th>5</th>\n",
       "      <td>5</td>\n",
       "      <td>Bryan Miranda</td>\n",
       "      <td>M</td>\n",
       "      <td>9th</td>\n",
       "      <td>Huang High School</td>\n",
       "      <td>94</td>\n",
       "      <td>94</td>\n",
       "      <td>0</td>\n",
       "      <td>District</td>\n",
       "      <td>2917</td>\n",
       "      <td>1910635</td>\n",
       "    </tr>\n",
       "    <tr>\n",
       "      <th>6</th>\n",
       "      <td>6</td>\n",
       "      <td>Sheena Carter</td>\n",
       "      <td>F</td>\n",
       "      <td>11th</td>\n",
       "      <td>Huang High School</td>\n",
       "      <td>82</td>\n",
       "      <td>80</td>\n",
       "      <td>0</td>\n",
       "      <td>District</td>\n",
       "      <td>2917</td>\n",
       "      <td>1910635</td>\n",
       "    </tr>\n",
       "    <tr>\n",
       "      <th>8</th>\n",
       "      <td>8</td>\n",
       "      <td>Michael Roth</td>\n",
       "      <td>M</td>\n",
       "      <td>10th</td>\n",
       "      <td>Huang High School</td>\n",
       "      <td>95</td>\n",
       "      <td>87</td>\n",
       "      <td>0</td>\n",
       "      <td>District</td>\n",
       "      <td>2917</td>\n",
       "      <td>1910635</td>\n",
       "    </tr>\n",
       "    <tr>\n",
       "      <th>9</th>\n",
       "      <td>9</td>\n",
       "      <td>Matthew Greene</td>\n",
       "      <td>M</td>\n",
       "      <td>10th</td>\n",
       "      <td>Huang High School</td>\n",
       "      <td>96</td>\n",
       "      <td>84</td>\n",
       "      <td>0</td>\n",
       "      <td>District</td>\n",
       "      <td>2917</td>\n",
       "      <td>1910635</td>\n",
       "    </tr>\n",
       "  </tbody>\n",
       "</table>\n",
       "</div>"
      ],
      "text/plain": [
       "   Student ID    student_name gender grade        school_name  reading_score  \\\n",
       "4           4      Bonnie Ray      F   9th  Huang High School             97   \n",
       "5           5   Bryan Miranda      M   9th  Huang High School             94   \n",
       "6           6   Sheena Carter      F  11th  Huang High School             82   \n",
       "8           8    Michael Roth      M  10th  Huang High School             95   \n",
       "9           9  Matthew Greene      M  10th  Huang High School             96   \n",
       "\n",
       "   math_score  School ID      type  size   budget  \n",
       "4          84          0  District  2917  1910635  \n",
       "5          94          0  District  2917  1910635  \n",
       "6          80          0  District  2917  1910635  \n",
       "8          87          0  District  2917  1910635  \n",
       "9          84          0  District  2917  1910635  "
      ]
     },
     "execution_count": 244,
     "metadata": {},
     "output_type": "execute_result"
    }
   ],
   "source": [
    "# Calculate the students who passed both math and reading.\n",
    "per_passing_math_reading = school_data_complete_df[(school_data_complete_df['reading_score'] >= 70) & (school_data_complete_df['math_score'] >= 70)]\n",
    "per_passing_math_reading.head()"
   ]
  },
  {
   "cell_type": "code",
   "execution_count": 245,
   "id": "601ba5d7",
   "metadata": {},
   "outputs": [
    {
     "data": {
      "text/plain": [
       "school_name\n",
       "Bailey High School      2719\n",
       "Cabrera High School     1697\n",
       "Figueroa High School    1569\n",
       "Ford High School        1487\n",
       "Griffin High School     1330\n",
       "Name: Student ID, dtype: int64"
      ]
     },
     "execution_count": 245,
     "metadata": {},
     "output_type": "execute_result"
    }
   ],
   "source": [
    "# Calculate the number of students who passed both math and reading.\n",
    "per_passing_math_reading = per_passing_math_reading.groupby([\"school_name\"]).count()[\"Student ID\"]\n",
    "per_passing_math_reading.head()"
   ]
  },
  {
   "cell_type": "code",
   "execution_count": 246,
   "id": "f163c6f4",
   "metadata": {},
   "outputs": [
    {
     "data": {
      "text/plain": [
       "Bailey High School       54.642283\n",
       "Cabrera High School      91.334769\n",
       "Figueroa High School     53.204476\n",
       "Ford High School         54.289887\n",
       "Griffin High School      90.599455\n",
       "Hernandez High School    53.527508\n",
       "Holden High School       89.227166\n",
       "Huang High School        53.513884\n",
       "Johnson High School      53.539172\n",
       "Pena High School         90.540541\n",
       "Rodriguez High School    52.988247\n",
       "Shelton High School      89.892107\n",
       "Thomas High School       90.948012\n",
       "Wilson High School       90.582567\n",
       "Wright High School       90.333333\n",
       "dtype: float64"
      ]
     },
     "execution_count": 246,
     "metadata": {},
     "output_type": "execute_result"
    }
   ],
   "source": [
    "# Calculate Overall % Passing by School\n",
    "per_overall_passing_percentage = per_passing_math_reading / per_school_counts * 100\n",
    "per_overall_passing_percentage"
   ]
  },
  {
   "cell_type": "code",
   "execution_count": 290,
   "id": "0fd15d01",
   "metadata": {},
   "outputs": [
    {
     "data": {
      "text/html": [
       "<div>\n",
       "<style scoped>\n",
       "    .dataframe tbody tr th:only-of-type {\n",
       "        vertical-align: middle;\n",
       "    }\n",
       "\n",
       "    .dataframe tbody tr th {\n",
       "        vertical-align: top;\n",
       "    }\n",
       "\n",
       "    .dataframe thead th {\n",
       "        text-align: right;\n",
       "    }\n",
       "</style>\n",
       "<table border=\"1\" class=\"dataframe\">\n",
       "  <thead>\n",
       "    <tr style=\"text-align: right;\">\n",
       "      <th></th>\n",
       "      <th>School Type</th>\n",
       "      <th>Total Students</th>\n",
       "      <th>Total School Budget</th>\n",
       "      <th>Per Student Budget</th>\n",
       "      <th>Average Math Score</th>\n",
       "      <th>Average Reading Score</th>\n",
       "      <th>% Passing Math</th>\n",
       "      <th>% Passing Reading</th>\n",
       "      <th>% Overall Passing</th>\n",
       "    </tr>\n",
       "  </thead>\n",
       "  <tbody>\n",
       "    <tr>\n",
       "      <th>Bailey High School</th>\n",
       "      <td>District</td>\n",
       "      <td>4976</td>\n",
       "      <td>3124928</td>\n",
       "      <td>628.0</td>\n",
       "      <td>77.048432</td>\n",
       "      <td>81.033963</td>\n",
       "      <td>66.680064</td>\n",
       "      <td>81.933280</td>\n",
       "      <td>54.642283</td>\n",
       "    </tr>\n",
       "    <tr>\n",
       "      <th>Cabrera High School</th>\n",
       "      <td>Charter</td>\n",
       "      <td>1858</td>\n",
       "      <td>1081356</td>\n",
       "      <td>582.0</td>\n",
       "      <td>83.061895</td>\n",
       "      <td>83.975780</td>\n",
       "      <td>94.133477</td>\n",
       "      <td>97.039828</td>\n",
       "      <td>91.334769</td>\n",
       "    </tr>\n",
       "    <tr>\n",
       "      <th>Figueroa High School</th>\n",
       "      <td>District</td>\n",
       "      <td>2949</td>\n",
       "      <td>1884411</td>\n",
       "      <td>639.0</td>\n",
       "      <td>76.711767</td>\n",
       "      <td>81.158020</td>\n",
       "      <td>65.988471</td>\n",
       "      <td>80.739234</td>\n",
       "      <td>53.204476</td>\n",
       "    </tr>\n",
       "    <tr>\n",
       "      <th>Ford High School</th>\n",
       "      <td>District</td>\n",
       "      <td>2739</td>\n",
       "      <td>1763916</td>\n",
       "      <td>644.0</td>\n",
       "      <td>77.102592</td>\n",
       "      <td>80.746258</td>\n",
       "      <td>68.309602</td>\n",
       "      <td>79.299014</td>\n",
       "      <td>54.289887</td>\n",
       "    </tr>\n",
       "    <tr>\n",
       "      <th>Griffin High School</th>\n",
       "      <td>Charter</td>\n",
       "      <td>1468</td>\n",
       "      <td>917500</td>\n",
       "      <td>625.0</td>\n",
       "      <td>83.351499</td>\n",
       "      <td>83.816757</td>\n",
       "      <td>93.392371</td>\n",
       "      <td>97.138965</td>\n",
       "      <td>90.599455</td>\n",
       "    </tr>\n",
       "  </tbody>\n",
       "</table>\n",
       "</div>"
      ],
      "text/plain": [
       "                     School Type  Total Students  Total School Budget  \\\n",
       "Bailey High School      District            4976              3124928   \n",
       "Cabrera High School      Charter            1858              1081356   \n",
       "Figueroa High School    District            2949              1884411   \n",
       "Ford High School        District            2739              1763916   \n",
       "Griffin High School      Charter            1468               917500   \n",
       "\n",
       "                      Per Student Budget  Average Math Score  \\\n",
       "Bailey High School                 628.0           77.048432   \n",
       "Cabrera High School                582.0           83.061895   \n",
       "Figueroa High School               639.0           76.711767   \n",
       "Ford High School                   644.0           77.102592   \n",
       "Griffin High School                625.0           83.351499   \n",
       "\n",
       "                      Average Reading Score  % Passing Math  \\\n",
       "Bailey High School                81.033963       66.680064   \n",
       "Cabrera High School               83.975780       94.133477   \n",
       "Figueroa High School              81.158020       65.988471   \n",
       "Ford High School                  80.746258       68.309602   \n",
       "Griffin High School               83.816757       93.392371   \n",
       "\n",
       "                      % Passing Reading  % Overall Passing  \n",
       "Bailey High School            81.933280          54.642283  \n",
       "Cabrera High School           97.039828          91.334769  \n",
       "Figueroa High School          80.739234          53.204476  \n",
       "Ford High School              79.299014          54.289887  \n",
       "Griffin High School           97.138965          90.599455  "
      ]
     },
     "execution_count": 290,
     "metadata": {},
     "output_type": "execute_result"
    }
   ],
   "source": [
    "# Creating new summary data frame based on the calculations\n",
    "\n",
    "per_school_summary_df = pd.DataFrame({\n",
    "    \"School Type\": per_school_types,\n",
    "    \"Total Students\": per_school_counts,\n",
    "    \"Total School Budget\": per_school_budget,\n",
    "    \"Per Student Budget\": per_school_capita,\n",
    "    \"Average Math Score\": math_score_per_school,\n",
    "    \"Average Reading Score\": reading_score_per_school,\n",
    "    \"% Passing Math\": per_school_passing_math,\n",
    "    \"% Passing Reading\": per_school_passing_reading,\n",
    "    \"% Overall Passing\": per_overall_passing_percentage\n",
    "})\n",
    "per_school_summary_df.head()"
   ]
  },
  {
   "cell_type": "code",
   "execution_count": 291,
   "id": "d4d549de",
   "metadata": {},
   "outputs": [
    {
     "data": {
      "text/plain": [
       "School Type               object\n",
       "Total Students             int64\n",
       "Total School Budget      float64\n",
       "Per Student Budget       float64\n",
       "Average Math Score       float64\n",
       "Average Reading Score    float64\n",
       "% Passing Math           float64\n",
       "% Passing Reading        float64\n",
       "% Overall Passing        float64\n",
       "dtype: object"
      ]
     },
     "execution_count": 291,
     "metadata": {},
     "output_type": "execute_result"
    }
   ],
   "source": [
    "per_school_summary_df['Total School Budget'] = per_school_summary_df['Total School Budget'].astype(float)\n",
    "per_school_summary_df['Per Student Budget'] = per_school_summary_df['Per Student Budget'].astype(float)\n",
    "per_school_summary_df.dtypes"
   ]
  },
  {
   "cell_type": "code",
   "execution_count": 292,
   "id": "d7b8fd4c",
   "metadata": {},
   "outputs": [
    {
     "ename": "ValueError",
     "evalue": "Unknown format code 'f' for object of type 'str'",
     "output_type": "error",
     "traceback": [
      "\u001b[0;31m---------------------------------------------------------------------------\u001b[0m",
      "\u001b[0;31mValueError\u001b[0m                                Traceback (most recent call last)",
      "\u001b[0;32m<ipython-input-292-038260f999b9>\u001b[0m in \u001b[0;36m<module>\u001b[0;34m\u001b[0m\n\u001b[0;32m----> 1\u001b[0;31m \u001b[0mper_school_summary\u001b[0m\u001b[0;34m[\u001b[0m\u001b[0;34m'Total School Budget'\u001b[0m\u001b[0;34m]\u001b[0m \u001b[0;34m=\u001b[0m \u001b[0mper_school_summary\u001b[0m\u001b[0;34m[\u001b[0m\u001b[0;34m'Total School Budget'\u001b[0m\u001b[0;34m]\u001b[0m\u001b[0;34m.\u001b[0m\u001b[0mmap\u001b[0m\u001b[0;34m(\u001b[0m\u001b[0;34m\"${:,.2f}\"\u001b[0m\u001b[0;34m.\u001b[0m\u001b[0mformat\u001b[0m\u001b[0;34m)\u001b[0m\u001b[0;34m\u001b[0m\u001b[0;34m\u001b[0m\u001b[0m\n\u001b[0m",
      "\u001b[0;32m~/opt/anaconda3/envs/PythonData/lib/python3.8/site-packages/pandas/core/series.py\u001b[0m in \u001b[0;36mmap\u001b[0;34m(self, arg, na_action)\u001b[0m\n\u001b[1;32m   3907\u001b[0m         \u001b[0mdtype\u001b[0m\u001b[0;34m:\u001b[0m \u001b[0mobject\u001b[0m\u001b[0;34m\u001b[0m\u001b[0;34m\u001b[0m\u001b[0m\n\u001b[1;32m   3908\u001b[0m         \"\"\"\n\u001b[0;32m-> 3909\u001b[0;31m         \u001b[0mnew_values\u001b[0m \u001b[0;34m=\u001b[0m \u001b[0msuper\u001b[0m\u001b[0;34m(\u001b[0m\u001b[0;34m)\u001b[0m\u001b[0;34m.\u001b[0m\u001b[0m_map_values\u001b[0m\u001b[0;34m(\u001b[0m\u001b[0marg\u001b[0m\u001b[0;34m,\u001b[0m \u001b[0mna_action\u001b[0m\u001b[0;34m=\u001b[0m\u001b[0mna_action\u001b[0m\u001b[0;34m)\u001b[0m\u001b[0;34m\u001b[0m\u001b[0;34m\u001b[0m\u001b[0m\n\u001b[0m\u001b[1;32m   3910\u001b[0m         return self._constructor(new_values, index=self.index).__finalize__(\n\u001b[1;32m   3911\u001b[0m             \u001b[0mself\u001b[0m\u001b[0;34m,\u001b[0m \u001b[0mmethod\u001b[0m\u001b[0;34m=\u001b[0m\u001b[0;34m\"map\"\u001b[0m\u001b[0;34m\u001b[0m\u001b[0;34m\u001b[0m\u001b[0m\n",
      "\u001b[0;32m~/opt/anaconda3/envs/PythonData/lib/python3.8/site-packages/pandas/core/base.py\u001b[0m in \u001b[0;36m_map_values\u001b[0;34m(self, mapper, na_action)\u001b[0m\n\u001b[1;32m    935\u001b[0m \u001b[0;34m\u001b[0m\u001b[0m\n\u001b[1;32m    936\u001b[0m         \u001b[0;31m# mapper is a function\u001b[0m\u001b[0;34m\u001b[0m\u001b[0;34m\u001b[0m\u001b[0;34m\u001b[0m\u001b[0m\n\u001b[0;32m--> 937\u001b[0;31m         \u001b[0mnew_values\u001b[0m \u001b[0;34m=\u001b[0m \u001b[0mmap_f\u001b[0m\u001b[0;34m(\u001b[0m\u001b[0mvalues\u001b[0m\u001b[0;34m,\u001b[0m \u001b[0mmapper\u001b[0m\u001b[0;34m)\u001b[0m\u001b[0;34m\u001b[0m\u001b[0;34m\u001b[0m\u001b[0m\n\u001b[0m\u001b[1;32m    938\u001b[0m \u001b[0;34m\u001b[0m\u001b[0m\n\u001b[1;32m    939\u001b[0m         \u001b[0;32mreturn\u001b[0m \u001b[0mnew_values\u001b[0m\u001b[0;34m\u001b[0m\u001b[0;34m\u001b[0m\u001b[0m\n",
      "\u001b[0;32mpandas/_libs/lib.pyx\u001b[0m in \u001b[0;36mpandas._libs.lib.map_infer\u001b[0;34m()\u001b[0m\n",
      "\u001b[0;31mValueError\u001b[0m: Unknown format code 'f' for object of type 'str'"
     ]
    }
   ],
   "source": [
    "per_school_summary['Total School Budget'] = per_school_summary['Total School Budget'].map(\"${:,.2f}\".format)"
   ]
  },
  {
   "cell_type": "code",
   "execution_count": 293,
   "id": "cb0caa4a",
   "metadata": {},
   "outputs": [
    {
     "data": {
      "text/plain": [
       "Cabrera High School      $1,081,356.00\n",
       "Thomas High School       $1,043,130.00\n",
       "Griffin High School        $917,500.00\n",
       "Wilson High School       $1,319,574.00\n",
       "Pena High School           $585,858.00\n",
       "Wright High School       $1,049,400.00\n",
       "Shelton High School      $1,056,600.00\n",
       "Holden High School         $248,087.00\n",
       "Bailey High School       $3,124,928.00\n",
       "Ford High School         $1,763,916.00\n",
       "Johnson High School      $3,094,650.00\n",
       "Hernandez High School    $3,022,020.00\n",
       "Huang High School        $1,910,635.00\n",
       "Figueroa High School     $1,884,411.00\n",
       "Rodriguez High School    $2,547,363.00\n",
       "Name: Total School Budget, dtype: object"
      ]
     },
     "execution_count": 293,
     "metadata": {},
     "output_type": "execute_result"
    }
   ],
   "source": [
    "per_school_summary['Total School Budget']"
   ]
  },
  {
   "cell_type": "code",
   "execution_count": 294,
   "id": "4998f073",
   "metadata": {},
   "outputs": [
    {
     "ename": "ValueError",
     "evalue": "Unknown format code 'f' for object of type 'str'",
     "output_type": "error",
     "traceback": [
      "\u001b[0;31m---------------------------------------------------------------------------\u001b[0m",
      "\u001b[0;31mValueError\u001b[0m                                Traceback (most recent call last)",
      "\u001b[0;32m<ipython-input-294-7eaa4ec17558>\u001b[0m in \u001b[0;36m<module>\u001b[0;34m\u001b[0m\n\u001b[0;32m----> 1\u001b[0;31m \u001b[0mper_school_summary\u001b[0m\u001b[0;34m[\u001b[0m\u001b[0;34m'Per Student Budget'\u001b[0m\u001b[0;34m]\u001b[0m \u001b[0;34m=\u001b[0m \u001b[0mper_school_summary\u001b[0m\u001b[0;34m[\u001b[0m\u001b[0;34m'Per Student Budget'\u001b[0m\u001b[0;34m]\u001b[0m\u001b[0;34m.\u001b[0m\u001b[0mmap\u001b[0m\u001b[0;34m(\u001b[0m\u001b[0;34m\"${:,.2f}\"\u001b[0m\u001b[0;34m.\u001b[0m\u001b[0mformat\u001b[0m\u001b[0;34m)\u001b[0m\u001b[0;34m\u001b[0m\u001b[0;34m\u001b[0m\u001b[0m\n\u001b[0m",
      "\u001b[0;32m~/opt/anaconda3/envs/PythonData/lib/python3.8/site-packages/pandas/core/series.py\u001b[0m in \u001b[0;36mmap\u001b[0;34m(self, arg, na_action)\u001b[0m\n\u001b[1;32m   3907\u001b[0m         \u001b[0mdtype\u001b[0m\u001b[0;34m:\u001b[0m \u001b[0mobject\u001b[0m\u001b[0;34m\u001b[0m\u001b[0;34m\u001b[0m\u001b[0m\n\u001b[1;32m   3908\u001b[0m         \"\"\"\n\u001b[0;32m-> 3909\u001b[0;31m         \u001b[0mnew_values\u001b[0m \u001b[0;34m=\u001b[0m \u001b[0msuper\u001b[0m\u001b[0;34m(\u001b[0m\u001b[0;34m)\u001b[0m\u001b[0;34m.\u001b[0m\u001b[0m_map_values\u001b[0m\u001b[0;34m(\u001b[0m\u001b[0marg\u001b[0m\u001b[0;34m,\u001b[0m \u001b[0mna_action\u001b[0m\u001b[0;34m=\u001b[0m\u001b[0mna_action\u001b[0m\u001b[0;34m)\u001b[0m\u001b[0;34m\u001b[0m\u001b[0;34m\u001b[0m\u001b[0m\n\u001b[0m\u001b[1;32m   3910\u001b[0m         return self._constructor(new_values, index=self.index).__finalize__(\n\u001b[1;32m   3911\u001b[0m             \u001b[0mself\u001b[0m\u001b[0;34m,\u001b[0m \u001b[0mmethod\u001b[0m\u001b[0;34m=\u001b[0m\u001b[0;34m\"map\"\u001b[0m\u001b[0;34m\u001b[0m\u001b[0;34m\u001b[0m\u001b[0m\n",
      "\u001b[0;32m~/opt/anaconda3/envs/PythonData/lib/python3.8/site-packages/pandas/core/base.py\u001b[0m in \u001b[0;36m_map_values\u001b[0;34m(self, mapper, na_action)\u001b[0m\n\u001b[1;32m    935\u001b[0m \u001b[0;34m\u001b[0m\u001b[0m\n\u001b[1;32m    936\u001b[0m         \u001b[0;31m# mapper is a function\u001b[0m\u001b[0;34m\u001b[0m\u001b[0;34m\u001b[0m\u001b[0;34m\u001b[0m\u001b[0m\n\u001b[0;32m--> 937\u001b[0;31m         \u001b[0mnew_values\u001b[0m \u001b[0;34m=\u001b[0m \u001b[0mmap_f\u001b[0m\u001b[0;34m(\u001b[0m\u001b[0mvalues\u001b[0m\u001b[0;34m,\u001b[0m \u001b[0mmapper\u001b[0m\u001b[0;34m)\u001b[0m\u001b[0;34m\u001b[0m\u001b[0;34m\u001b[0m\u001b[0m\n\u001b[0m\u001b[1;32m    938\u001b[0m \u001b[0;34m\u001b[0m\u001b[0m\n\u001b[1;32m    939\u001b[0m         \u001b[0;32mreturn\u001b[0m \u001b[0mnew_values\u001b[0m\u001b[0;34m\u001b[0m\u001b[0;34m\u001b[0m\u001b[0m\n",
      "\u001b[0;32mpandas/_libs/lib.pyx\u001b[0m in \u001b[0;36mpandas._libs.lib.map_infer\u001b[0;34m()\u001b[0m\n",
      "\u001b[0;31mValueError\u001b[0m: Unknown format code 'f' for object of type 'str'"
     ]
    }
   ],
   "source": [
    "per_school_summary['Per Student Budget'] = per_school_summary['Per Student Budget'].map(\"${:,.2f}\".format)"
   ]
  },
  {
   "cell_type": "code",
   "execution_count": 295,
   "id": "4f3f02b6",
   "metadata": {},
   "outputs": [
    {
     "data": {
      "text/plain": [
       "Cabrera High School      $582.00\n",
       "Thomas High School       $638.00\n",
       "Griffin High School      $625.00\n",
       "Wilson High School       $578.00\n",
       "Pena High School         $609.00\n",
       "Wright High School       $583.00\n",
       "Shelton High School      $600.00\n",
       "Holden High School       $581.00\n",
       "Bailey High School       $628.00\n",
       "Ford High School         $644.00\n",
       "Johnson High School      $650.00\n",
       "Hernandez High School    $652.00\n",
       "Huang High School        $655.00\n",
       "Figueroa High School     $639.00\n",
       "Rodriguez High School    $637.00\n",
       "Name: Per Student Budget, dtype: object"
      ]
     },
     "execution_count": 295,
     "metadata": {},
     "output_type": "execute_result"
    }
   ],
   "source": [
    "per_school_summary['Per Student Budget']"
   ]
  },
  {
   "cell_type": "code",
   "execution_count": 265,
   "id": "018a7f1e",
   "metadata": {},
   "outputs": [
    {
     "data": {
      "text/html": [
       "<div>\n",
       "<style scoped>\n",
       "    .dataframe tbody tr th:only-of-type {\n",
       "        vertical-align: middle;\n",
       "    }\n",
       "\n",
       "    .dataframe tbody tr th {\n",
       "        vertical-align: top;\n",
       "    }\n",
       "\n",
       "    .dataframe thead th {\n",
       "        text-align: right;\n",
       "    }\n",
       "</style>\n",
       "<table border=\"1\" class=\"dataframe\">\n",
       "  <thead>\n",
       "    <tr style=\"text-align: right;\">\n",
       "      <th></th>\n",
       "      <th>School Type</th>\n",
       "      <th>Total Students</th>\n",
       "      <th>Total School Budget</th>\n",
       "      <th>Per Student Budget</th>\n",
       "      <th>Average Math Score</th>\n",
       "      <th>Average Reading Score</th>\n",
       "      <th>% Passing Math</th>\n",
       "      <th>% Passing Reading</th>\n",
       "      <th>% Overall Passing</th>\n",
       "    </tr>\n",
       "  </thead>\n",
       "  <tbody>\n",
       "    <tr>\n",
       "      <th>Cabrera High School</th>\n",
       "      <td>Charter</td>\n",
       "      <td>1858</td>\n",
       "      <td>$1,081,356.00</td>\n",
       "      <td>$582.00</td>\n",
       "      <td>83.061895</td>\n",
       "      <td>83.975780</td>\n",
       "      <td>94.133477</td>\n",
       "      <td>97.039828</td>\n",
       "      <td>91.334769</td>\n",
       "    </tr>\n",
       "    <tr>\n",
       "      <th>Thomas High School</th>\n",
       "      <td>Charter</td>\n",
       "      <td>1635</td>\n",
       "      <td>$1,043,130.00</td>\n",
       "      <td>$638.00</td>\n",
       "      <td>83.418349</td>\n",
       "      <td>83.848930</td>\n",
       "      <td>93.272171</td>\n",
       "      <td>97.308869</td>\n",
       "      <td>90.948012</td>\n",
       "    </tr>\n",
       "    <tr>\n",
       "      <th>Griffin High School</th>\n",
       "      <td>Charter</td>\n",
       "      <td>1468</td>\n",
       "      <td>$917,500.00</td>\n",
       "      <td>$625.00</td>\n",
       "      <td>83.351499</td>\n",
       "      <td>83.816757</td>\n",
       "      <td>93.392371</td>\n",
       "      <td>97.138965</td>\n",
       "      <td>90.599455</td>\n",
       "    </tr>\n",
       "    <tr>\n",
       "      <th>Wilson High School</th>\n",
       "      <td>Charter</td>\n",
       "      <td>2283</td>\n",
       "      <td>$1,319,574.00</td>\n",
       "      <td>$578.00</td>\n",
       "      <td>83.274201</td>\n",
       "      <td>83.989488</td>\n",
       "      <td>93.867718</td>\n",
       "      <td>96.539641</td>\n",
       "      <td>90.582567</td>\n",
       "    </tr>\n",
       "    <tr>\n",
       "      <th>Pena High School</th>\n",
       "      <td>Charter</td>\n",
       "      <td>962</td>\n",
       "      <td>$585,858.00</td>\n",
       "      <td>$609.00</td>\n",
       "      <td>83.839917</td>\n",
       "      <td>84.044699</td>\n",
       "      <td>94.594595</td>\n",
       "      <td>95.945946</td>\n",
       "      <td>90.540541</td>\n",
       "    </tr>\n",
       "  </tbody>\n",
       "</table>\n",
       "</div>"
      ],
      "text/plain": [
       "                    School Type  Total Students Total School Budget  \\\n",
       "Cabrera High School     Charter            1858       $1,081,356.00   \n",
       "Thomas High School      Charter            1635       $1,043,130.00   \n",
       "Griffin High School     Charter            1468         $917,500.00   \n",
       "Wilson High School      Charter            2283       $1,319,574.00   \n",
       "Pena High School        Charter             962         $585,858.00   \n",
       "\n",
       "                    Per Student Budget  Average Math Score  \\\n",
       "Cabrera High School            $582.00           83.061895   \n",
       "Thomas High School             $638.00           83.418349   \n",
       "Griffin High School            $625.00           83.351499   \n",
       "Wilson High School             $578.00           83.274201   \n",
       "Pena High School               $609.00           83.839917   \n",
       "\n",
       "                     Average Reading Score  % Passing Math  % Passing Reading  \\\n",
       "Cabrera High School              83.975780       94.133477          97.039828   \n",
       "Thomas High School               83.848930       93.272171          97.308869   \n",
       "Griffin High School              83.816757       93.392371          97.138965   \n",
       "Wilson High School               83.989488       93.867718          96.539641   \n",
       "Pena High School                 84.044699       94.594595          95.945946   \n",
       "\n",
       "                     % Overall Passing  \n",
       "Cabrera High School          91.334769  \n",
       "Thomas High School           90.948012  \n",
       "Griffin High School          90.599455  \n",
       "Wilson High School           90.582567  \n",
       "Pena High School             90.540541  "
      ]
     },
     "execution_count": 265,
     "metadata": {},
     "output_type": "execute_result"
    }
   ],
   "source": [
    "# Sort the Overall Passing Percentage column to find top schools\n",
    "per_school_summary = per_school_summary.sort_values(['% Overall Passing'], ascending=False)\n",
    "per_school_summary.head()"
   ]
  },
  {
   "cell_type": "code",
   "execution_count": 266,
   "id": "7b5889fd",
   "metadata": {
    "scrolled": true
   },
   "outputs": [
    {
     "data": {
      "text/html": [
       "<div>\n",
       "<style scoped>\n",
       "    .dataframe tbody tr th:only-of-type {\n",
       "        vertical-align: middle;\n",
       "    }\n",
       "\n",
       "    .dataframe tbody tr th {\n",
       "        vertical-align: top;\n",
       "    }\n",
       "\n",
       "    .dataframe thead th {\n",
       "        text-align: right;\n",
       "    }\n",
       "</style>\n",
       "<table border=\"1\" class=\"dataframe\">\n",
       "  <thead>\n",
       "    <tr style=\"text-align: right;\">\n",
       "      <th></th>\n",
       "      <th>School Type</th>\n",
       "      <th>Total Students</th>\n",
       "      <th>Total School Budget</th>\n",
       "      <th>Per Student Budget</th>\n",
       "      <th>Average Math Score</th>\n",
       "      <th>Average Reading Score</th>\n",
       "      <th>% Passing Math</th>\n",
       "      <th>% Passing Reading</th>\n",
       "      <th>% Overall Passing</th>\n",
       "    </tr>\n",
       "  </thead>\n",
       "  <tbody>\n",
       "    <tr>\n",
       "      <th>Rodriguez High School</th>\n",
       "      <td>District</td>\n",
       "      <td>3999</td>\n",
       "      <td>$2,547,363.00</td>\n",
       "      <td>$637.00</td>\n",
       "      <td>76.842711</td>\n",
       "      <td>80.744686</td>\n",
       "      <td>66.366592</td>\n",
       "      <td>80.220055</td>\n",
       "      <td>52.988247</td>\n",
       "    </tr>\n",
       "    <tr>\n",
       "      <th>Figueroa High School</th>\n",
       "      <td>District</td>\n",
       "      <td>2949</td>\n",
       "      <td>$1,884,411.00</td>\n",
       "      <td>$639.00</td>\n",
       "      <td>76.711767</td>\n",
       "      <td>81.158020</td>\n",
       "      <td>65.988471</td>\n",
       "      <td>80.739234</td>\n",
       "      <td>53.204476</td>\n",
       "    </tr>\n",
       "    <tr>\n",
       "      <th>Huang High School</th>\n",
       "      <td>District</td>\n",
       "      <td>2917</td>\n",
       "      <td>$1,910,635.00</td>\n",
       "      <td>$655.00</td>\n",
       "      <td>76.629414</td>\n",
       "      <td>81.182722</td>\n",
       "      <td>65.683922</td>\n",
       "      <td>81.316421</td>\n",
       "      <td>53.513884</td>\n",
       "    </tr>\n",
       "    <tr>\n",
       "      <th>Hernandez High School</th>\n",
       "      <td>District</td>\n",
       "      <td>4635</td>\n",
       "      <td>$3,022,020.00</td>\n",
       "      <td>$652.00</td>\n",
       "      <td>77.289752</td>\n",
       "      <td>80.934412</td>\n",
       "      <td>66.752967</td>\n",
       "      <td>80.862999</td>\n",
       "      <td>53.527508</td>\n",
       "    </tr>\n",
       "    <tr>\n",
       "      <th>Johnson High School</th>\n",
       "      <td>District</td>\n",
       "      <td>4761</td>\n",
       "      <td>$3,094,650.00</td>\n",
       "      <td>$650.00</td>\n",
       "      <td>77.072464</td>\n",
       "      <td>80.966394</td>\n",
       "      <td>66.057551</td>\n",
       "      <td>81.222432</td>\n",
       "      <td>53.539172</td>\n",
       "    </tr>\n",
       "  </tbody>\n",
       "</table>\n",
       "</div>"
      ],
      "text/plain": [
       "                      School Type  Total Students Total School Budget  \\\n",
       "Rodriguez High School    District            3999       $2,547,363.00   \n",
       "Figueroa High School     District            2949       $1,884,411.00   \n",
       "Huang High School        District            2917       $1,910,635.00   \n",
       "Hernandez High School    District            4635       $3,022,020.00   \n",
       "Johnson High School      District            4761       $3,094,650.00   \n",
       "\n",
       "                      Per Student Budget  Average Math Score  \\\n",
       "Rodriguez High School            $637.00           76.842711   \n",
       "Figueroa High School             $639.00           76.711767   \n",
       "Huang High School                $655.00           76.629414   \n",
       "Hernandez High School            $652.00           77.289752   \n",
       "Johnson High School              $650.00           77.072464   \n",
       "\n",
       "                       Average Reading Score  % Passing Math  \\\n",
       "Rodriguez High School              80.744686       66.366592   \n",
       "Figueroa High School               81.158020       65.988471   \n",
       "Huang High School                  81.182722       65.683922   \n",
       "Hernandez High School              80.934412       66.752967   \n",
       "Johnson High School                80.966394       66.057551   \n",
       "\n",
       "                       % Passing Reading  % Overall Passing  \n",
       "Rodriguez High School          80.220055          52.988247  \n",
       "Figueroa High School           80.739234          53.204476  \n",
       "Huang High School              81.316421          53.513884  \n",
       "Hernandez High School          80.862999          53.527508  \n",
       "Johnson High School            81.222432          53.539172  "
      ]
     },
     "execution_count": 266,
     "metadata": {},
     "output_type": "execute_result"
    }
   ],
   "source": [
    "# Sort the Overall Passing Percentage column to find bottom schools\n",
    "bottom_school_summary = per_school_summary.sort_values(['% Overall Passing'], ascending=True)\n",
    "bottom_school_summary.head()"
   ]
  },
  {
   "cell_type": "code",
   "execution_count": 270,
   "id": "c9c54b59",
   "metadata": {},
   "outputs": [
    {
     "data": {
      "text/html": [
       "<div>\n",
       "<style scoped>\n",
       "    .dataframe tbody tr th:only-of-type {\n",
       "        vertical-align: middle;\n",
       "    }\n",
       "\n",
       "    .dataframe tbody tr th {\n",
       "        vertical-align: top;\n",
       "    }\n",
       "\n",
       "    .dataframe thead th {\n",
       "        text-align: right;\n",
       "    }\n",
       "</style>\n",
       "<table border=\"1\" class=\"dataframe\">\n",
       "  <thead>\n",
       "    <tr style=\"text-align: right;\">\n",
       "      <th></th>\n",
       "      <th>Student ID</th>\n",
       "      <th>student_name</th>\n",
       "      <th>gender</th>\n",
       "      <th>grade</th>\n",
       "      <th>school_name</th>\n",
       "      <th>reading_score</th>\n",
       "      <th>math_score</th>\n",
       "      <th>School ID</th>\n",
       "      <th>type</th>\n",
       "      <th>size</th>\n",
       "      <th>budget</th>\n",
       "    </tr>\n",
       "  </thead>\n",
       "  <tbody>\n",
       "    <tr>\n",
       "      <th>0</th>\n",
       "      <td>0</td>\n",
       "      <td>Paul Bradley</td>\n",
       "      <td>M</td>\n",
       "      <td>9th</td>\n",
       "      <td>Huang High School</td>\n",
       "      <td>66</td>\n",
       "      <td>79</td>\n",
       "      <td>0</td>\n",
       "      <td>District</td>\n",
       "      <td>2917</td>\n",
       "      <td>1910635</td>\n",
       "    </tr>\n",
       "    <tr>\n",
       "      <th>4</th>\n",
       "      <td>4</td>\n",
       "      <td>Bonnie Ray</td>\n",
       "      <td>F</td>\n",
       "      <td>9th</td>\n",
       "      <td>Huang High School</td>\n",
       "      <td>97</td>\n",
       "      <td>84</td>\n",
       "      <td>0</td>\n",
       "      <td>District</td>\n",
       "      <td>2917</td>\n",
       "      <td>1910635</td>\n",
       "    </tr>\n",
       "    <tr>\n",
       "      <th>5</th>\n",
       "      <td>5</td>\n",
       "      <td>Bryan Miranda</td>\n",
       "      <td>M</td>\n",
       "      <td>9th</td>\n",
       "      <td>Huang High School</td>\n",
       "      <td>94</td>\n",
       "      <td>94</td>\n",
       "      <td>0</td>\n",
       "      <td>District</td>\n",
       "      <td>2917</td>\n",
       "      <td>1910635</td>\n",
       "    </tr>\n",
       "    <tr>\n",
       "      <th>12</th>\n",
       "      <td>12</td>\n",
       "      <td>Brittney Walker</td>\n",
       "      <td>F</td>\n",
       "      <td>9th</td>\n",
       "      <td>Huang High School</td>\n",
       "      <td>64</td>\n",
       "      <td>79</td>\n",
       "      <td>0</td>\n",
       "      <td>District</td>\n",
       "      <td>2917</td>\n",
       "      <td>1910635</td>\n",
       "    </tr>\n",
       "    <tr>\n",
       "      <th>13</th>\n",
       "      <td>13</td>\n",
       "      <td>William Long</td>\n",
       "      <td>M</td>\n",
       "      <td>9th</td>\n",
       "      <td>Huang High School</td>\n",
       "      <td>71</td>\n",
       "      <td>79</td>\n",
       "      <td>0</td>\n",
       "      <td>District</td>\n",
       "      <td>2917</td>\n",
       "      <td>1910635</td>\n",
       "    </tr>\n",
       "  </tbody>\n",
       "</table>\n",
       "</div>"
      ],
      "text/plain": [
       "    Student ID     student_name gender grade        school_name  \\\n",
       "0            0     Paul Bradley      M   9th  Huang High School   \n",
       "4            4       Bonnie Ray      F   9th  Huang High School   \n",
       "5            5    Bryan Miranda      M   9th  Huang High School   \n",
       "12          12  Brittney Walker      F   9th  Huang High School   \n",
       "13          13     William Long      M   9th  Huang High School   \n",
       "\n",
       "    reading_score  math_score  School ID      type  size   budget  \n",
       "0              66          79          0  District  2917  1910635  \n",
       "4              97          84          0  District  2917  1910635  \n",
       "5              94          94          0  District  2917  1910635  \n",
       "12             64          79          0  District  2917  1910635  \n",
       "13             71          79          0  District  2917  1910635  "
      ]
     },
     "execution_count": 270,
     "metadata": {},
     "output_type": "execute_result"
    }
   ],
   "source": [
    "# Get all Grades and put them in individual dataframe\n",
    "ninth_graders = school_data_complete_df[(school_data_complete_df[\"grade\"] == \"9th\")]\n",
    "tenth_graders = school_data_complete_df[(school_data_complete_df[\"grade\"] == \"10th\")]\n",
    "eleventh_graders = school_data_complete_df[(school_data_complete_df[\"grade\"] == \"11th\")]\n",
    "twelfth_graders = school_data_complete_df[(school_data_complete_df[\"grade\"] == \"12th\")]\n",
    "\n",
    "ninth_graders.head()"
   ]
  },
  {
   "cell_type": "code",
   "execution_count": 277,
   "id": "d2835e95",
   "metadata": {},
   "outputs": [],
   "source": [
    "# Grouping each grade dataframe by school and getting average math scores\n",
    "ninth_graders_math_scores = ninth_graders.groupby(['school_name']).mean()['math_score']\n",
    "tenth_graders_math_scores = tenth_graders.groupby(['school_name']).mean()['math_score']\n",
    "eleventh_graders_math_scores = eleventh_graders.groupby(['school_name']).mean()['math_score']\n",
    "twelfth_graders_math_scores = twelfth_graders.groupby(['school_name']).mean()['math_score']"
   ]
  },
  {
   "cell_type": "code",
   "execution_count": 279,
   "id": "88e3194a",
   "metadata": {},
   "outputs": [],
   "source": [
    "# Grouping each grade dataframe by school and getting average reading scores\n",
    "ninth_graders_reading_scores = ninth_graders.groupby(['school_name']).mean()['reading_score']\n",
    "tenth_graders_reading_scores = tenth_graders.groupby(['school_name']).mean()['reading_score']\n",
    "eleventh_graders_reading_scores = eleventh_graders.groupby(['school_name']).mean()['reading_score']\n",
    "twelfth_graders_reading_scores = twelfth_graders.groupby(['school_name']).mean()['reading_score']"
   ]
  },
  {
   "cell_type": "code",
   "execution_count": 280,
   "id": "8a5a80fc",
   "metadata": {},
   "outputs": [
    {
     "data": {
      "text/html": [
       "<div>\n",
       "<style scoped>\n",
       "    .dataframe tbody tr th:only-of-type {\n",
       "        vertical-align: middle;\n",
       "    }\n",
       "\n",
       "    .dataframe tbody tr th {\n",
       "        vertical-align: top;\n",
       "    }\n",
       "\n",
       "    .dataframe thead th {\n",
       "        text-align: right;\n",
       "    }\n",
       "</style>\n",
       "<table border=\"1\" class=\"dataframe\">\n",
       "  <thead>\n",
       "    <tr style=\"text-align: right;\">\n",
       "      <th></th>\n",
       "      <th>Ninth Grade</th>\n",
       "      <th>Tenth Grade</th>\n",
       "      <th>Eleventh Grade</th>\n",
       "      <th>Twelfth Grade</th>\n",
       "    </tr>\n",
       "    <tr>\n",
       "      <th>school_name</th>\n",
       "      <th></th>\n",
       "      <th></th>\n",
       "      <th></th>\n",
       "      <th></th>\n",
       "    </tr>\n",
       "  </thead>\n",
       "  <tbody>\n",
       "    <tr>\n",
       "      <th>Bailey High School</th>\n",
       "      <td>77.083676</td>\n",
       "      <td>76.996772</td>\n",
       "      <td>77.515588</td>\n",
       "      <td>76.492218</td>\n",
       "    </tr>\n",
       "    <tr>\n",
       "      <th>Cabrera High School</th>\n",
       "      <td>83.094697</td>\n",
       "      <td>83.154506</td>\n",
       "      <td>82.765560</td>\n",
       "      <td>83.277487</td>\n",
       "    </tr>\n",
       "    <tr>\n",
       "      <th>Figueroa High School</th>\n",
       "      <td>76.403037</td>\n",
       "      <td>76.539974</td>\n",
       "      <td>76.884344</td>\n",
       "      <td>77.151369</td>\n",
       "    </tr>\n",
       "    <tr>\n",
       "      <th>Ford High School</th>\n",
       "      <td>77.361345</td>\n",
       "      <td>77.672316</td>\n",
       "      <td>76.918058</td>\n",
       "      <td>76.179963</td>\n",
       "    </tr>\n",
       "    <tr>\n",
       "      <th>Griffin High School</th>\n",
       "      <td>82.044010</td>\n",
       "      <td>84.229064</td>\n",
       "      <td>83.842105</td>\n",
       "      <td>83.356164</td>\n",
       "    </tr>\n",
       "  </tbody>\n",
       "</table>\n",
       "</div>"
      ],
      "text/plain": [
       "                      Ninth Grade  Tenth Grade  Eleventh Grade  Twelfth Grade\n",
       "school_name                                                                  \n",
       "Bailey High School      77.083676    76.996772       77.515588      76.492218\n",
       "Cabrera High School     83.094697    83.154506       82.765560      83.277487\n",
       "Figueroa High School    76.403037    76.539974       76.884344      77.151369\n",
       "Ford High School        77.361345    77.672316       76.918058      76.179963\n",
       "Griffin High School     82.044010    84.229064       83.842105      83.356164"
      ]
     },
     "execution_count": 280,
     "metadata": {},
     "output_type": "execute_result"
    }
   ],
   "source": [
    "# Add the math scores by grade to a dataframe\n",
    "math_scores_by_grade = pd.DataFrame({\n",
    "    \"Ninth Grade\": ninth_graders_math_scores,\n",
    "    \"Tenth Grade\": tenth_graders_math_scores,\n",
    "    \"Eleventh Grade\": eleventh_graders_math_scores,\n",
    "    \"Twelfth Grade\": twelfth_graders_math_scores,\n",
    "})\n",
    "\n",
    "math_scores_by_grade.head()"
   ]
  },
  {
   "cell_type": "code",
   "execution_count": 300,
   "id": "5d450980",
   "metadata": {},
   "outputs": [
    {
     "data": {
      "text/html": [
       "<div>\n",
       "<style scoped>\n",
       "    .dataframe tbody tr th:only-of-type {\n",
       "        vertical-align: middle;\n",
       "    }\n",
       "\n",
       "    .dataframe tbody tr th {\n",
       "        vertical-align: top;\n",
       "    }\n",
       "\n",
       "    .dataframe thead th {\n",
       "        text-align: right;\n",
       "    }\n",
       "</style>\n",
       "<table border=\"1\" class=\"dataframe\">\n",
       "  <thead>\n",
       "    <tr style=\"text-align: right;\">\n",
       "      <th></th>\n",
       "      <th>Ninth Grade</th>\n",
       "      <th>Tenth Grade</th>\n",
       "      <th>Eleventh Grade</th>\n",
       "      <th>Twelfth Grade</th>\n",
       "    </tr>\n",
       "    <tr>\n",
       "      <th>school_name</th>\n",
       "      <th></th>\n",
       "      <th></th>\n",
       "      <th></th>\n",
       "      <th></th>\n",
       "    </tr>\n",
       "  </thead>\n",
       "  <tbody>\n",
       "    <tr>\n",
       "      <th>Bailey High School</th>\n",
       "      <td>81.303155</td>\n",
       "      <td>80.907183</td>\n",
       "      <td>80.945643</td>\n",
       "      <td>80.912451</td>\n",
       "    </tr>\n",
       "    <tr>\n",
       "      <th>Cabrera High School</th>\n",
       "      <td>83.676136</td>\n",
       "      <td>84.253219</td>\n",
       "      <td>83.788382</td>\n",
       "      <td>84.287958</td>\n",
       "    </tr>\n",
       "    <tr>\n",
       "      <th>Figueroa High School</th>\n",
       "      <td>81.198598</td>\n",
       "      <td>81.408912</td>\n",
       "      <td>80.640339</td>\n",
       "      <td>81.384863</td>\n",
       "    </tr>\n",
       "    <tr>\n",
       "      <th>Ford High School</th>\n",
       "      <td>80.632653</td>\n",
       "      <td>81.262712</td>\n",
       "      <td>80.403642</td>\n",
       "      <td>80.662338</td>\n",
       "    </tr>\n",
       "    <tr>\n",
       "      <th>Griffin High School</th>\n",
       "      <td>83.369193</td>\n",
       "      <td>83.706897</td>\n",
       "      <td>84.288089</td>\n",
       "      <td>84.013699</td>\n",
       "    </tr>\n",
       "  </tbody>\n",
       "</table>\n",
       "</div>"
      ],
      "text/plain": [
       "                      Ninth Grade  Tenth Grade  Eleventh Grade  Twelfth Grade\n",
       "school_name                                                                  \n",
       "Bailey High School      81.303155    80.907183       80.945643      80.912451\n",
       "Cabrera High School     83.676136    84.253219       83.788382      84.287958\n",
       "Figueroa High School    81.198598    81.408912       80.640339      81.384863\n",
       "Ford High School        80.632653    81.262712       80.403642      80.662338\n",
       "Griffin High School     83.369193    83.706897       84.288089      84.013699"
      ]
     },
     "execution_count": 300,
     "metadata": {},
     "output_type": "execute_result"
    }
   ],
   "source": [
    "# Add the reading scores by grade to a dataframe\n",
    "reading_scores_by_grade = pd.DataFrame({\n",
    "    \"Ninth Grade\": ninth_graders_reading_scores,\n",
    "    \"Tenth Grade\": tenth_graders_reading_scores,\n",
    "    \"Eleventh Grade\": eleventh_graders_reading_scores,\n",
    "    \"Twelfth Grade\": twelfth_graders_reading_scores,\n",
    "})\n",
    "\n",
    "reading_scores_by_grade.head()"
   ]
  },
  {
   "cell_type": "code",
   "execution_count": 301,
   "id": "a7016219",
   "metadata": {},
   "outputs": [],
   "source": [
    "# Change the format of each column\n",
    "reading_scores_by_grade[\"Ninth Grade\"] = reading_scores_by_grade[\"Ninth Grade\"].map(\"{:.1f}%\".format)\n",
    "reading_scores_by_grade[\"Tenth Grade\"] = reading_scores_by_grade[\"Tenth Grade\"].map(\"{:.1f}%\".format)\n",
    "reading_scores_by_grade[\"Eleventh Grade\"] = reading_scores_by_grade[\"Eleventh Grade\"].map(\"{:.1f}%\".format)\n",
    "reading_scores_by_grade[\"Twelfth Grade\"] = reading_scores_by_grade[\"Twelfth Grade\"].map(\"{:.1f}%\".format)"
   ]
  },
  {
   "cell_type": "code",
   "execution_count": 302,
   "id": "7ad52c29",
   "metadata": {},
   "outputs": [
    {
     "data": {
      "text/html": [
       "<div>\n",
       "<style scoped>\n",
       "    .dataframe tbody tr th:only-of-type {\n",
       "        vertical-align: middle;\n",
       "    }\n",
       "\n",
       "    .dataframe tbody tr th {\n",
       "        vertical-align: top;\n",
       "    }\n",
       "\n",
       "    .dataframe thead th {\n",
       "        text-align: right;\n",
       "    }\n",
       "</style>\n",
       "<table border=\"1\" class=\"dataframe\">\n",
       "  <thead>\n",
       "    <tr style=\"text-align: right;\">\n",
       "      <th></th>\n",
       "      <th>Ninth Grade</th>\n",
       "      <th>Tenth Grade</th>\n",
       "      <th>Eleventh Grade</th>\n",
       "      <th>Twelfth Grade</th>\n",
       "    </tr>\n",
       "  </thead>\n",
       "  <tbody>\n",
       "    <tr>\n",
       "      <th>Bailey High School</th>\n",
       "      <td>81.3%</td>\n",
       "      <td>80.9%</td>\n",
       "      <td>80.9%</td>\n",
       "      <td>80.9%</td>\n",
       "    </tr>\n",
       "    <tr>\n",
       "      <th>Cabrera High School</th>\n",
       "      <td>83.7%</td>\n",
       "      <td>84.3%</td>\n",
       "      <td>83.8%</td>\n",
       "      <td>84.3%</td>\n",
       "    </tr>\n",
       "    <tr>\n",
       "      <th>Figueroa High School</th>\n",
       "      <td>81.2%</td>\n",
       "      <td>81.4%</td>\n",
       "      <td>80.6%</td>\n",
       "      <td>81.4%</td>\n",
       "    </tr>\n",
       "    <tr>\n",
       "      <th>Ford High School</th>\n",
       "      <td>80.6%</td>\n",
       "      <td>81.3%</td>\n",
       "      <td>80.4%</td>\n",
       "      <td>80.7%</td>\n",
       "    </tr>\n",
       "    <tr>\n",
       "      <th>Griffin High School</th>\n",
       "      <td>83.4%</td>\n",
       "      <td>83.7%</td>\n",
       "      <td>84.3%</td>\n",
       "      <td>84.0%</td>\n",
       "    </tr>\n",
       "  </tbody>\n",
       "</table>\n",
       "</div>"
      ],
      "text/plain": [
       "                     Ninth Grade Tenth Grade Eleventh Grade Twelfth Grade\n",
       "Bailey High School         81.3%       80.9%          80.9%         80.9%\n",
       "Cabrera High School        83.7%       84.3%          83.8%         84.3%\n",
       "Figueroa High School       81.2%       81.4%          80.6%         81.4%\n",
       "Ford High School           80.6%       81.3%          80.4%         80.7%\n",
       "Griffin High School        83.4%       83.7%          84.3%         84.0%"
      ]
     },
     "execution_count": 302,
     "metadata": {},
     "output_type": "execute_result"
    }
   ],
   "source": [
    "# Remove the Index Name\n",
    "reading_scores_by_grade.index.name = None\n",
    "\n",
    "#Display the frame\n",
    "reading_scores_by_grade.head()"
   ]
  },
  {
   "cell_type": "code",
   "execution_count": 303,
   "id": "5a21baf0",
   "metadata": {},
   "outputs": [],
   "source": [
    "# Change the format of each column\n",
    "math_scores_by_grade[\"Ninth Grade\"] = math_scores_by_grade[\"Ninth Grade\"].map(\"{:.1f}%\".format)\n",
    "math_scores_by_grade[\"Tenth Grade\"] = math_scores_by_grade[\"Tenth Grade\"].map(\"{:.1f}%\".format)\n",
    "math_scores_by_grade[\"Eleventh Grade\"] = math_scores_by_grade[\"Eleventh Grade\"].map(\"{:.1f}%\".format)\n",
    "math_scores_by_grade[\"Twelfth Grade\"] = math_scores_by_grade[\"Twelfth Grade\"].map(\"{:.1f}%\".format)"
   ]
  },
  {
   "cell_type": "code",
   "execution_count": 304,
   "id": "b3e0ffb3",
   "metadata": {},
   "outputs": [
    {
     "data": {
      "text/html": [
       "<div>\n",
       "<style scoped>\n",
       "    .dataframe tbody tr th:only-of-type {\n",
       "        vertical-align: middle;\n",
       "    }\n",
       "\n",
       "    .dataframe tbody tr th {\n",
       "        vertical-align: top;\n",
       "    }\n",
       "\n",
       "    .dataframe thead th {\n",
       "        text-align: right;\n",
       "    }\n",
       "</style>\n",
       "<table border=\"1\" class=\"dataframe\">\n",
       "  <thead>\n",
       "    <tr style=\"text-align: right;\">\n",
       "      <th></th>\n",
       "      <th>Ninth Grade</th>\n",
       "      <th>Tenth Grade</th>\n",
       "      <th>Eleventh Grade</th>\n",
       "      <th>Twelfth Grade</th>\n",
       "    </tr>\n",
       "  </thead>\n",
       "  <tbody>\n",
       "    <tr>\n",
       "      <th>Bailey High School</th>\n",
       "      <td>77.1%</td>\n",
       "      <td>77.0%</td>\n",
       "      <td>77.5%</td>\n",
       "      <td>76.5%</td>\n",
       "    </tr>\n",
       "    <tr>\n",
       "      <th>Cabrera High School</th>\n",
       "      <td>83.1%</td>\n",
       "      <td>83.2%</td>\n",
       "      <td>82.8%</td>\n",
       "      <td>83.3%</td>\n",
       "    </tr>\n",
       "    <tr>\n",
       "      <th>Figueroa High School</th>\n",
       "      <td>76.4%</td>\n",
       "      <td>76.5%</td>\n",
       "      <td>76.9%</td>\n",
       "      <td>77.2%</td>\n",
       "    </tr>\n",
       "    <tr>\n",
       "      <th>Ford High School</th>\n",
       "      <td>77.4%</td>\n",
       "      <td>77.7%</td>\n",
       "      <td>76.9%</td>\n",
       "      <td>76.2%</td>\n",
       "    </tr>\n",
       "    <tr>\n",
       "      <th>Griffin High School</th>\n",
       "      <td>82.0%</td>\n",
       "      <td>84.2%</td>\n",
       "      <td>83.8%</td>\n",
       "      <td>83.4%</td>\n",
       "    </tr>\n",
       "  </tbody>\n",
       "</table>\n",
       "</div>"
      ],
      "text/plain": [
       "                     Ninth Grade Tenth Grade Eleventh Grade Twelfth Grade\n",
       "Bailey High School         77.1%       77.0%          77.5%         76.5%\n",
       "Cabrera High School        83.1%       83.2%          82.8%         83.3%\n",
       "Figueroa High School       76.4%       76.5%          76.9%         77.2%\n",
       "Ford High School           77.4%       77.7%          76.9%         76.2%\n",
       "Griffin High School        82.0%       84.2%          83.8%         83.4%"
      ]
     },
     "execution_count": 304,
     "metadata": {},
     "output_type": "execute_result"
    }
   ],
   "source": [
    "# Remove the Index Name\n",
    "math_scores_by_grade.index.name = None\n",
    "\n",
    "#Display the frame\n",
    "math_scores_by_grade.head()"
   ]
  },
  {
   "cell_type": "code",
   "execution_count": null,
   "id": "2fa37001",
   "metadata": {},
   "outputs": [],
   "source": []
  }
 ],
 "metadata": {
  "kernelspec": {
   "display_name": "PythonData",
   "language": "python",
   "name": "pythondata"
  },
  "language_info": {
   "codemirror_mode": {
    "name": "ipython",
    "version": 3
   },
   "file_extension": ".py",
   "mimetype": "text/x-python",
   "name": "python",
   "nbconvert_exporter": "python",
   "pygments_lexer": "ipython3",
   "version": "3.8.8"
  }
 },
 "nbformat": 4,
 "nbformat_minor": 5
}
